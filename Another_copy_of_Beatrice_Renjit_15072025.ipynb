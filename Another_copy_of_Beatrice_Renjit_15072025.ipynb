{
  "cells": [
    {
      "cell_type": "markdown",
      "metadata": {
        "id": "view-in-github",
        "colab_type": "text"
      },
      "source": [
        "<a href=\"https://colab.research.google.com/github/Sidharthwhitehats/Bayesian-optimization-based-dynamic-ensemble-for-time-series-forecasting/blob/main/Another_copy_of_Beatrice_Renjit_15072025.ipynb\" target=\"_parent\"><img src=\"https://colab.research.google.com/assets/colab-badge.svg\" alt=\"Open In Colab\"/></a>"
      ]
    },
    {
      "cell_type": "code",
      "execution_count": 1,
      "metadata": {
        "colab": {
          "base_uri": "https://localhost:8080/"
        },
        "id": "UyT551_QoKKK",
        "outputId": "f2d36916-77b9-4eed-a4f7-bbed9ac195b6"
      },
      "outputs": [
        {
          "output_type": "stream",
          "name": "stdout",
          "text": [
            "Mounted at /content/drive\n"
          ]
        }
      ],
      "source": [
        "from google.colab import drive\n",
        "drive.mount('/content/drive')"
      ]
    },
    {
      "cell_type": "markdown",
      "metadata": {
        "id": "XRP-bK-zouLs"
      },
      "source": [
        "# Installation"
      ]
    },
    {
      "cell_type": "markdown",
      "metadata": {
        "id": "RbEr0sqAof7t"
      },
      "source": [
        "Import Libraries"
      ]
    },
    {
      "cell_type": "code",
      "execution_count": 2,
      "metadata": {
        "id": "i6V2idOR3PCY"
      },
      "outputs": [],
      "source": [
        "import os\n",
        "import pandas as pd\n",
        "\n",
        "\n",
        "\n",
        "base_dir = os.path.dirname(os.path.abspath('Beatrice_data_main.csv'))"
      ]
    },
    {
      "cell_type": "code",
      "execution_count": 3,
      "metadata": {
        "id": "Zz64We14yk2w"
      },
      "outputs": [],
      "source": [
        "import os\n",
        "import pandas as pd\n",
        "\n",
        "# Get the directory of the current script\n",
        "\n",
        "\n",
        "# Construct the path to the CSV file in the root directory\n",
        "csv_path = os.path.join(base_dir, 'Beatrice_data_main.csv')\n",
        "\n",
        "# Read the CSV file\n"
      ]
    },
    {
      "cell_type": "code",
      "execution_count": 4,
      "metadata": {
        "colab": {
          "base_uri": "https://localhost:8080/"
        },
        "id": "XxvYgVWp1niS",
        "outputId": "afdbdd65-b41e-4ab9-8f8b-54200e49ebec"
      },
      "outputs": [
        {
          "output_type": "stream",
          "name": "stdout",
          "text": [
            "['Colab Notebooks', 'the-cambridge-encyclopedia-of-space-missions_230801_214149.pdf', 'TOPFARM_PROGRAM_RENJIT_2042024.ipynb', 'HR MANUAL.pdf', 'REC_CO_Order_debarring_RLP_dtd 20082020 (1).pdf', 'Beatrice_wind_data.ipynb', 'Beatrice_wind_data.csv', 'DOC-20240901-WA0105..pdf', 'document-87.pdf', 'Course 1 glossary.gdoc', 'Hybrid CNN LSTM to predict the diabetes.pdf', 'Wind power prediction in complex terrain using.pdf', 'Wind Energy_Solbrekke_ Norwegian offshore_ multi‐criteria decision analysis.pdf', 'wind speed forecasting of wind farms.pdf', 'A novel decomposition-ensemble learning framework for multi-step ahead wind energy.pdf', 'transparent and coherent database_wind.pdf', 'All_Windspeed_Data.csv', 'Beatrice (1).csv', 'short term wind forecast_using statistical methods.pdf', 'wind power forecasting based on deep neural networking.pdf', 'synthtic photo voltaic and wind power data.pdf', 'wind power forecasting_based on wind speed daily.pdf', 'Spreadsheet Errors and Fixes Demo Sheets.gsheet', 'data_analyst_jobs_2023.gsheet', 'Scope-Of-Work Template.gdoc', 'Beatrice_wind_project', 'Population-Latin-and-Caribbean-Countries-2010-2019.xlsx', 'lien policy public services.pdf', 'Appointment as MD_KMDL.pdf', 'Untitled spreadsheet (1).gsheet', 'data.csv', 'Untitled spreadsheet.gsheet', 'Sales Rep Cities, States, and Parts.gsheet', '1.zip', 'Chapter_2 (1).docx', 'Chapter_2.docx', 'DeliveryTimes DistanceData.gsheet', 'Hr_order_debarrement_my_represenattion.pdf', 'request ltr to SrGM_23112020.pdf', 'Detailed-Advertisement-02-2024.pdf', 'Request for reviewing the promotion_DPC2022_dtd_08082022_scanned copy.pdf', 'RTI for promotion orders_22082022.pdf', 'RTI_first appeal_29092022.pdf', '2018 promotion.pdf', 'REC_CO_Order_debarring_RLP_dtd 20082020.pdf', 'Ltr_to_CMD_for reviewing promotion_31aug2022.pdf', 'Gmail - Request for reviewing the promotion orders based on DPC-2023.pdf', 'Detailed-final-ad27-09-2022.pdf', 'policy regarding interview marks.jpeg', 'plea to CMD_corrected 09082023.docx', 'Request for reviewing the promotion_DPC2022.pdf', 'CRONOLOGICAL ORDER_to advt.xlsx', 'plea to CMD REC dtd 12.07.23.docx', 'transfer with promotion cancel order 2022-08-22.jpeg', 'seniority list on 2018.pdf', 'Newtons Law', 'Margin of Error Calculator.gsheet', 'Data Spreadsheet for \"Cleaning with Spreadsheets\" .gsheet', 'International Logistics Association Memberships - Data for Cleaning (1).gsheet', 'International Logistics Association Memberships - Data for Cleaning.gsheet', 'Cosmetics Inc. - Data for Cleaning.gsheet', 'Cosmetics Inc. - Data for Pivot Table and VLOOKUP.gsheet', 'Global Logistics Association - Data for CONCATENATE.gsheet', 'sf_boba_tea_shop_data.gsheet', 'RENJIT_LAL_PARAMESWARAN_resume.pdf', 'automobile_data.gsheet', 'joining_report_DGM.pdf', \"Jeff's Party Planet - Data for Cleaning.gsheet\", 'Resume Template 1.gdoc', 'Kitty Survey Feedback (4).gsheet', 'Kitty Survey Feedback (3).gsheet', 'Kitty Survey Feedback (2).gsheet', 'Kitty Survey Feedback (1).gsheet', 'Kitty Survey Feedback.gsheet', 'Discount-Variety-Store-433-Monthly-Sales.gsheet', 'Working with Conditions (2).gsheet', 'Working with Conditions (1).gsheet', 'Working with Conditions.gsheet', 'Movie Data Starter Project (2).gsheet', 'Beatrice.csv', 'Movie Data Starter Project (1).gsheet', 'Copy of Movie Data Starter Project.gsheet', 'Windmill project', 'Movie Data Starter Project.gsheet', 'Weather Table - Data for CONVERT.gsheet', 'Project Spreadsheet - for Data Validation.gsheet', 'Project Spreadsheet - for Conditional Formatting.gsheet', 'Citi Bike Trip Data.gsheet', 'VLOOKUP Practice Sheet.gsheet', 'Population, Latin and Caribbean Countries, 2010-2019, long format .gsheet', 'RENJITLAL----Air tickets.pdf', 'hrishi_ID_IV.jpg', 'FTC REFUND.docx', 'xxxx-xxxx-xx-xxxx60_87366598_12-06-2025.pdf', '0000000009751-C2.pdf', 'Beatrice_data_main (1).csv', 'Beatrice_data_main.csv', 'dcal ncd2.pdf', 'dcal ncd2.gdoc']\n"
          ]
        }
      ],
      "source": [
        "import os\n",
        "print(os.listdir('/content/drive/MyDrive/'))"
      ]
    },
    {
      "cell_type": "code",
      "execution_count": 5,
      "metadata": {
        "colab": {
          "base_uri": "https://localhost:8080/",
          "height": 634
        },
        "id": "0uX_nKGy4AHG",
        "outputId": "9119b30d-ee06-4195-d100-129d7261f4b7"
      },
      "outputs": [
        {
          "output_type": "execute_result",
          "data": {
            "text/plain": [
              "                    time      u100       v100       fsr  Windspeed  \\\n",
              "0          1/1/1980 0:00  1.808975 -10.229706  0.000261  10.388420   \n",
              "1          1/1/1980 1:00  1.916092 -10.346832  0.000242  10.522754   \n",
              "2          1/1/1980 2:00  1.940201 -10.212601  0.000230  10.395267   \n",
              "3          1/1/1980 3:00  2.296951 -10.099304  0.000224  10.357217   \n",
              "4          1/1/1980 4:00  2.725143 -10.351501  0.000238  10.704205   \n",
              "...                  ...       ...        ...       ...        ...   \n",
              "350383  12/31/2019 19:00  5.339706   5.910355  0.000109   7.965221   \n",
              "350384  12/31/2019 20:00  5.571014   5.264069  0.000092   7.664634   \n",
              "350385  12/31/2019 21:00  5.881805   5.061096  0.000089   7.759531   \n",
              "350386  12/31/2019 22:00  5.934189   4.434921  0.000077   7.408314   \n",
              "350387  12/31/2019 23:00  5.984100   5.225739  0.000091   7.944671   \n",
              "\n",
              "        Scaled_Windspeed_(at_90m)  Wind_Direction      Power  year  month  \\\n",
              "0                       10.150733      100.028260  378.95800  1980      1   \n",
              "1                       10.281994      100.491540  390.87520  1980      1   \n",
              "2                       10.157425      100.756920  379.56732  1980      1   \n",
              "3                       10.120245      102.813194  376.18005  1980      1   \n",
              "4                       10.459293      104.749070  406.82446  1980      1   \n",
              "...                           ...             ...        ...   ...    ...   \n",
              "350383                   7.782983      227.903780  176.63489  2019     12   \n",
              "350384                   7.489274      223.377300  156.59825  2019     12   \n",
              "350385                   7.582000      220.710890  162.77127  2019     12   \n",
              "350386                   7.238819      216.772630  140.61679  2019     12   \n",
              "350387                   7.762904      221.129760  175.21983  2019     12   \n",
              "\n",
              "        precipitation (mm)  rain (mm)  pressure_msl (hPa)  \n",
              "0                      0.0        0.0              1001.7  \n",
              "1                      0.1        0.1              1001.1  \n",
              "2                      0.0        0.0              1001.3  \n",
              "3                      0.0        0.0              1000.8  \n",
              "4                      0.1        0.1              1000.9  \n",
              "...                    ...        ...                 ...  \n",
              "350383                 0.0        0.0              1029.5  \n",
              "350384                 0.0        0.0              1029.0  \n",
              "350385                 0.0        0.0              1028.7  \n",
              "350386                 0.0        0.0              1028.0  \n",
              "350387                 0.0        0.0              1027.4  \n",
              "\n",
              "[350388 rows x 13 columns]"
            ],
            "text/html": [
              "\n",
              "  <div id=\"df-c57d8b30-acef-4a9a-adef-8407ea3cf3d3\" class=\"colab-df-container\">\n",
              "    <div>\n",
              "<style scoped>\n",
              "    .dataframe tbody tr th:only-of-type {\n",
              "        vertical-align: middle;\n",
              "    }\n",
              "\n",
              "    .dataframe tbody tr th {\n",
              "        vertical-align: top;\n",
              "    }\n",
              "\n",
              "    .dataframe thead th {\n",
              "        text-align: right;\n",
              "    }\n",
              "</style>\n",
              "<table border=\"1\" class=\"dataframe\">\n",
              "  <thead>\n",
              "    <tr style=\"text-align: right;\">\n",
              "      <th></th>\n",
              "      <th>time</th>\n",
              "      <th>u100</th>\n",
              "      <th>v100</th>\n",
              "      <th>fsr</th>\n",
              "      <th>Windspeed</th>\n",
              "      <th>Scaled_Windspeed_(at_90m)</th>\n",
              "      <th>Wind_Direction</th>\n",
              "      <th>Power</th>\n",
              "      <th>year</th>\n",
              "      <th>month</th>\n",
              "      <th>precipitation (mm)</th>\n",
              "      <th>rain (mm)</th>\n",
              "      <th>pressure_msl (hPa)</th>\n",
              "    </tr>\n",
              "  </thead>\n",
              "  <tbody>\n",
              "    <tr>\n",
              "      <th>0</th>\n",
              "      <td>1/1/1980 0:00</td>\n",
              "      <td>1.808975</td>\n",
              "      <td>-10.229706</td>\n",
              "      <td>0.000261</td>\n",
              "      <td>10.388420</td>\n",
              "      <td>10.150733</td>\n",
              "      <td>100.028260</td>\n",
              "      <td>378.95800</td>\n",
              "      <td>1980</td>\n",
              "      <td>1</td>\n",
              "      <td>0.0</td>\n",
              "      <td>0.0</td>\n",
              "      <td>1001.7</td>\n",
              "    </tr>\n",
              "    <tr>\n",
              "      <th>1</th>\n",
              "      <td>1/1/1980 1:00</td>\n",
              "      <td>1.916092</td>\n",
              "      <td>-10.346832</td>\n",
              "      <td>0.000242</td>\n",
              "      <td>10.522754</td>\n",
              "      <td>10.281994</td>\n",
              "      <td>100.491540</td>\n",
              "      <td>390.87520</td>\n",
              "      <td>1980</td>\n",
              "      <td>1</td>\n",
              "      <td>0.1</td>\n",
              "      <td>0.1</td>\n",
              "      <td>1001.1</td>\n",
              "    </tr>\n",
              "    <tr>\n",
              "      <th>2</th>\n",
              "      <td>1/1/1980 2:00</td>\n",
              "      <td>1.940201</td>\n",
              "      <td>-10.212601</td>\n",
              "      <td>0.000230</td>\n",
              "      <td>10.395267</td>\n",
              "      <td>10.157425</td>\n",
              "      <td>100.756920</td>\n",
              "      <td>379.56732</td>\n",
              "      <td>1980</td>\n",
              "      <td>1</td>\n",
              "      <td>0.0</td>\n",
              "      <td>0.0</td>\n",
              "      <td>1001.3</td>\n",
              "    </tr>\n",
              "    <tr>\n",
              "      <th>3</th>\n",
              "      <td>1/1/1980 3:00</td>\n",
              "      <td>2.296951</td>\n",
              "      <td>-10.099304</td>\n",
              "      <td>0.000224</td>\n",
              "      <td>10.357217</td>\n",
              "      <td>10.120245</td>\n",
              "      <td>102.813194</td>\n",
              "      <td>376.18005</td>\n",
              "      <td>1980</td>\n",
              "      <td>1</td>\n",
              "      <td>0.0</td>\n",
              "      <td>0.0</td>\n",
              "      <td>1000.8</td>\n",
              "    </tr>\n",
              "    <tr>\n",
              "      <th>4</th>\n",
              "      <td>1/1/1980 4:00</td>\n",
              "      <td>2.725143</td>\n",
              "      <td>-10.351501</td>\n",
              "      <td>0.000238</td>\n",
              "      <td>10.704205</td>\n",
              "      <td>10.459293</td>\n",
              "      <td>104.749070</td>\n",
              "      <td>406.82446</td>\n",
              "      <td>1980</td>\n",
              "      <td>1</td>\n",
              "      <td>0.1</td>\n",
              "      <td>0.1</td>\n",
              "      <td>1000.9</td>\n",
              "    </tr>\n",
              "    <tr>\n",
              "      <th>...</th>\n",
              "      <td>...</td>\n",
              "      <td>...</td>\n",
              "      <td>...</td>\n",
              "      <td>...</td>\n",
              "      <td>...</td>\n",
              "      <td>...</td>\n",
              "      <td>...</td>\n",
              "      <td>...</td>\n",
              "      <td>...</td>\n",
              "      <td>...</td>\n",
              "      <td>...</td>\n",
              "      <td>...</td>\n",
              "      <td>...</td>\n",
              "    </tr>\n",
              "    <tr>\n",
              "      <th>350383</th>\n",
              "      <td>12/31/2019 19:00</td>\n",
              "      <td>5.339706</td>\n",
              "      <td>5.910355</td>\n",
              "      <td>0.000109</td>\n",
              "      <td>7.965221</td>\n",
              "      <td>7.782983</td>\n",
              "      <td>227.903780</td>\n",
              "      <td>176.63489</td>\n",
              "      <td>2019</td>\n",
              "      <td>12</td>\n",
              "      <td>0.0</td>\n",
              "      <td>0.0</td>\n",
              "      <td>1029.5</td>\n",
              "    </tr>\n",
              "    <tr>\n",
              "      <th>350384</th>\n",
              "      <td>12/31/2019 20:00</td>\n",
              "      <td>5.571014</td>\n",
              "      <td>5.264069</td>\n",
              "      <td>0.000092</td>\n",
              "      <td>7.664634</td>\n",
              "      <td>7.489274</td>\n",
              "      <td>223.377300</td>\n",
              "      <td>156.59825</td>\n",
              "      <td>2019</td>\n",
              "      <td>12</td>\n",
              "      <td>0.0</td>\n",
              "      <td>0.0</td>\n",
              "      <td>1029.0</td>\n",
              "    </tr>\n",
              "    <tr>\n",
              "      <th>350385</th>\n",
              "      <td>12/31/2019 21:00</td>\n",
              "      <td>5.881805</td>\n",
              "      <td>5.061096</td>\n",
              "      <td>0.000089</td>\n",
              "      <td>7.759531</td>\n",
              "      <td>7.582000</td>\n",
              "      <td>220.710890</td>\n",
              "      <td>162.77127</td>\n",
              "      <td>2019</td>\n",
              "      <td>12</td>\n",
              "      <td>0.0</td>\n",
              "      <td>0.0</td>\n",
              "      <td>1028.7</td>\n",
              "    </tr>\n",
              "    <tr>\n",
              "      <th>350386</th>\n",
              "      <td>12/31/2019 22:00</td>\n",
              "      <td>5.934189</td>\n",
              "      <td>4.434921</td>\n",
              "      <td>0.000077</td>\n",
              "      <td>7.408314</td>\n",
              "      <td>7.238819</td>\n",
              "      <td>216.772630</td>\n",
              "      <td>140.61679</td>\n",
              "      <td>2019</td>\n",
              "      <td>12</td>\n",
              "      <td>0.0</td>\n",
              "      <td>0.0</td>\n",
              "      <td>1028.0</td>\n",
              "    </tr>\n",
              "    <tr>\n",
              "      <th>350387</th>\n",
              "      <td>12/31/2019 23:00</td>\n",
              "      <td>5.984100</td>\n",
              "      <td>5.225739</td>\n",
              "      <td>0.000091</td>\n",
              "      <td>7.944671</td>\n",
              "      <td>7.762904</td>\n",
              "      <td>221.129760</td>\n",
              "      <td>175.21983</td>\n",
              "      <td>2019</td>\n",
              "      <td>12</td>\n",
              "      <td>0.0</td>\n",
              "      <td>0.0</td>\n",
              "      <td>1027.4</td>\n",
              "    </tr>\n",
              "  </tbody>\n",
              "</table>\n",
              "<p>350388 rows × 13 columns</p>\n",
              "</div>\n",
              "    <div class=\"colab-df-buttons\">\n",
              "\n",
              "  <div class=\"colab-df-container\">\n",
              "    <button class=\"colab-df-convert\" onclick=\"convertToInteractive('df-c57d8b30-acef-4a9a-adef-8407ea3cf3d3')\"\n",
              "            title=\"Convert this dataframe to an interactive table.\"\n",
              "            style=\"display:none;\">\n",
              "\n",
              "  <svg xmlns=\"http://www.w3.org/2000/svg\" height=\"24px\" viewBox=\"0 -960 960 960\">\n",
              "    <path d=\"M120-120v-720h720v720H120Zm60-500h600v-160H180v160Zm220 220h160v-160H400v160Zm0 220h160v-160H400v160ZM180-400h160v-160H180v160Zm440 0h160v-160H620v160ZM180-180h160v-160H180v160Zm440 0h160v-160H620v160Z\"/>\n",
              "  </svg>\n",
              "    </button>\n",
              "\n",
              "  <style>\n",
              "    .colab-df-container {\n",
              "      display:flex;\n",
              "      gap: 12px;\n",
              "    }\n",
              "\n",
              "    .colab-df-convert {\n",
              "      background-color: #E8F0FE;\n",
              "      border: none;\n",
              "      border-radius: 50%;\n",
              "      cursor: pointer;\n",
              "      display: none;\n",
              "      fill: #1967D2;\n",
              "      height: 32px;\n",
              "      padding: 0 0 0 0;\n",
              "      width: 32px;\n",
              "    }\n",
              "\n",
              "    .colab-df-convert:hover {\n",
              "      background-color: #E2EBFA;\n",
              "      box-shadow: 0px 1px 2px rgba(60, 64, 67, 0.3), 0px 1px 3px 1px rgba(60, 64, 67, 0.15);\n",
              "      fill: #174EA6;\n",
              "    }\n",
              "\n",
              "    .colab-df-buttons div {\n",
              "      margin-bottom: 4px;\n",
              "    }\n",
              "\n",
              "    [theme=dark] .colab-df-convert {\n",
              "      background-color: #3B4455;\n",
              "      fill: #D2E3FC;\n",
              "    }\n",
              "\n",
              "    [theme=dark] .colab-df-convert:hover {\n",
              "      background-color: #434B5C;\n",
              "      box-shadow: 0px 1px 3px 1px rgba(0, 0, 0, 0.15);\n",
              "      filter: drop-shadow(0px 1px 2px rgba(0, 0, 0, 0.3));\n",
              "      fill: #FFFFFF;\n",
              "    }\n",
              "  </style>\n",
              "\n",
              "    <script>\n",
              "      const buttonEl =\n",
              "        document.querySelector('#df-c57d8b30-acef-4a9a-adef-8407ea3cf3d3 button.colab-df-convert');\n",
              "      buttonEl.style.display =\n",
              "        google.colab.kernel.accessAllowed ? 'block' : 'none';\n",
              "\n",
              "      async function convertToInteractive(key) {\n",
              "        const element = document.querySelector('#df-c57d8b30-acef-4a9a-adef-8407ea3cf3d3');\n",
              "        const dataTable =\n",
              "          await google.colab.kernel.invokeFunction('convertToInteractive',\n",
              "                                                    [key], {});\n",
              "        if (!dataTable) return;\n",
              "\n",
              "        const docLinkHtml = 'Like what you see? Visit the ' +\n",
              "          '<a target=\"_blank\" href=https://colab.research.google.com/notebooks/data_table.ipynb>data table notebook</a>'\n",
              "          + ' to learn more about interactive tables.';\n",
              "        element.innerHTML = '';\n",
              "        dataTable['output_type'] = 'display_data';\n",
              "        await google.colab.output.renderOutput(dataTable, element);\n",
              "        const docLink = document.createElement('div');\n",
              "        docLink.innerHTML = docLinkHtml;\n",
              "        element.appendChild(docLink);\n",
              "      }\n",
              "    </script>\n",
              "  </div>\n",
              "\n",
              "\n",
              "    <div id=\"df-dc7fbbed-01c4-4164-a06a-0bd7d0cd1816\">\n",
              "      <button class=\"colab-df-quickchart\" onclick=\"quickchart('df-dc7fbbed-01c4-4164-a06a-0bd7d0cd1816')\"\n",
              "                title=\"Suggest charts\"\n",
              "                style=\"display:none;\">\n",
              "\n",
              "<svg xmlns=\"http://www.w3.org/2000/svg\" height=\"24px\"viewBox=\"0 0 24 24\"\n",
              "     width=\"24px\">\n",
              "    <g>\n",
              "        <path d=\"M19 3H5c-1.1 0-2 .9-2 2v14c0 1.1.9 2 2 2h14c1.1 0 2-.9 2-2V5c0-1.1-.9-2-2-2zM9 17H7v-7h2v7zm4 0h-2V7h2v10zm4 0h-2v-4h2v4z\"/>\n",
              "    </g>\n",
              "</svg>\n",
              "      </button>\n",
              "\n",
              "<style>\n",
              "  .colab-df-quickchart {\n",
              "      --bg-color: #E8F0FE;\n",
              "      --fill-color: #1967D2;\n",
              "      --hover-bg-color: #E2EBFA;\n",
              "      --hover-fill-color: #174EA6;\n",
              "      --disabled-fill-color: #AAA;\n",
              "      --disabled-bg-color: #DDD;\n",
              "  }\n",
              "\n",
              "  [theme=dark] .colab-df-quickchart {\n",
              "      --bg-color: #3B4455;\n",
              "      --fill-color: #D2E3FC;\n",
              "      --hover-bg-color: #434B5C;\n",
              "      --hover-fill-color: #FFFFFF;\n",
              "      --disabled-bg-color: #3B4455;\n",
              "      --disabled-fill-color: #666;\n",
              "  }\n",
              "\n",
              "  .colab-df-quickchart {\n",
              "    background-color: var(--bg-color);\n",
              "    border: none;\n",
              "    border-radius: 50%;\n",
              "    cursor: pointer;\n",
              "    display: none;\n",
              "    fill: var(--fill-color);\n",
              "    height: 32px;\n",
              "    padding: 0;\n",
              "    width: 32px;\n",
              "  }\n",
              "\n",
              "  .colab-df-quickchart:hover {\n",
              "    background-color: var(--hover-bg-color);\n",
              "    box-shadow: 0 1px 2px rgba(60, 64, 67, 0.3), 0 1px 3px 1px rgba(60, 64, 67, 0.15);\n",
              "    fill: var(--button-hover-fill-color);\n",
              "  }\n",
              "\n",
              "  .colab-df-quickchart-complete:disabled,\n",
              "  .colab-df-quickchart-complete:disabled:hover {\n",
              "    background-color: var(--disabled-bg-color);\n",
              "    fill: var(--disabled-fill-color);\n",
              "    box-shadow: none;\n",
              "  }\n",
              "\n",
              "  .colab-df-spinner {\n",
              "    border: 2px solid var(--fill-color);\n",
              "    border-color: transparent;\n",
              "    border-bottom-color: var(--fill-color);\n",
              "    animation:\n",
              "      spin 1s steps(1) infinite;\n",
              "  }\n",
              "\n",
              "  @keyframes spin {\n",
              "    0% {\n",
              "      border-color: transparent;\n",
              "      border-bottom-color: var(--fill-color);\n",
              "      border-left-color: var(--fill-color);\n",
              "    }\n",
              "    20% {\n",
              "      border-color: transparent;\n",
              "      border-left-color: var(--fill-color);\n",
              "      border-top-color: var(--fill-color);\n",
              "    }\n",
              "    30% {\n",
              "      border-color: transparent;\n",
              "      border-left-color: var(--fill-color);\n",
              "      border-top-color: var(--fill-color);\n",
              "      border-right-color: var(--fill-color);\n",
              "    }\n",
              "    40% {\n",
              "      border-color: transparent;\n",
              "      border-right-color: var(--fill-color);\n",
              "      border-top-color: var(--fill-color);\n",
              "    }\n",
              "    60% {\n",
              "      border-color: transparent;\n",
              "      border-right-color: var(--fill-color);\n",
              "    }\n",
              "    80% {\n",
              "      border-color: transparent;\n",
              "      border-right-color: var(--fill-color);\n",
              "      border-bottom-color: var(--fill-color);\n",
              "    }\n",
              "    90% {\n",
              "      border-color: transparent;\n",
              "      border-bottom-color: var(--fill-color);\n",
              "    }\n",
              "  }\n",
              "</style>\n",
              "\n",
              "      <script>\n",
              "        async function quickchart(key) {\n",
              "          const quickchartButtonEl =\n",
              "            document.querySelector('#' + key + ' button');\n",
              "          quickchartButtonEl.disabled = true;  // To prevent multiple clicks.\n",
              "          quickchartButtonEl.classList.add('colab-df-spinner');\n",
              "          try {\n",
              "            const charts = await google.colab.kernel.invokeFunction(\n",
              "                'suggestCharts', [key], {});\n",
              "          } catch (error) {\n",
              "            console.error('Error during call to suggestCharts:', error);\n",
              "          }\n",
              "          quickchartButtonEl.classList.remove('colab-df-spinner');\n",
              "          quickchartButtonEl.classList.add('colab-df-quickchart-complete');\n",
              "        }\n",
              "        (() => {\n",
              "          let quickchartButtonEl =\n",
              "            document.querySelector('#df-dc7fbbed-01c4-4164-a06a-0bd7d0cd1816 button');\n",
              "          quickchartButtonEl.style.display =\n",
              "            google.colab.kernel.accessAllowed ? 'block' : 'none';\n",
              "        })();\n",
              "      </script>\n",
              "    </div>\n",
              "\n",
              "  <div id=\"id_b2a7d1e3-faee-40a0-b0f8-8dfc5effda5b\">\n",
              "    <style>\n",
              "      .colab-df-generate {\n",
              "        background-color: #E8F0FE;\n",
              "        border: none;\n",
              "        border-radius: 50%;\n",
              "        cursor: pointer;\n",
              "        display: none;\n",
              "        fill: #1967D2;\n",
              "        height: 32px;\n",
              "        padding: 0 0 0 0;\n",
              "        width: 32px;\n",
              "      }\n",
              "\n",
              "      .colab-df-generate:hover {\n",
              "        background-color: #E2EBFA;\n",
              "        box-shadow: 0px 1px 2px rgba(60, 64, 67, 0.3), 0px 1px 3px 1px rgba(60, 64, 67, 0.15);\n",
              "        fill: #174EA6;\n",
              "      }\n",
              "\n",
              "      [theme=dark] .colab-df-generate {\n",
              "        background-color: #3B4455;\n",
              "        fill: #D2E3FC;\n",
              "      }\n",
              "\n",
              "      [theme=dark] .colab-df-generate:hover {\n",
              "        background-color: #434B5C;\n",
              "        box-shadow: 0px 1px 3px 1px rgba(0, 0, 0, 0.15);\n",
              "        filter: drop-shadow(0px 1px 2px rgba(0, 0, 0, 0.3));\n",
              "        fill: #FFFFFF;\n",
              "      }\n",
              "    </style>\n",
              "    <button class=\"colab-df-generate\" onclick=\"generateWithVariable('df')\"\n",
              "            title=\"Generate code using this dataframe.\"\n",
              "            style=\"display:none;\">\n",
              "\n",
              "  <svg xmlns=\"http://www.w3.org/2000/svg\" height=\"24px\"viewBox=\"0 0 24 24\"\n",
              "       width=\"24px\">\n",
              "    <path d=\"M7,19H8.4L18.45,9,17,7.55,7,17.6ZM5,21V16.75L18.45,3.32a2,2,0,0,1,2.83,0l1.4,1.43a1.91,1.91,0,0,1,.58,1.4,1.91,1.91,0,0,1-.58,1.4L9.25,21ZM18.45,9,17,7.55Zm-12,3A5.31,5.31,0,0,0,4.9,8.1,5.31,5.31,0,0,0,1,6.5,5.31,5.31,0,0,0,4.9,4.9,5.31,5.31,0,0,0,6.5,1,5.31,5.31,0,0,0,8.1,4.9,5.31,5.31,0,0,0,12,6.5,5.46,5.46,0,0,0,6.5,12Z\"/>\n",
              "  </svg>\n",
              "    </button>\n",
              "    <script>\n",
              "      (() => {\n",
              "      const buttonEl =\n",
              "        document.querySelector('#id_b2a7d1e3-faee-40a0-b0f8-8dfc5effda5b button.colab-df-generate');\n",
              "      buttonEl.style.display =\n",
              "        google.colab.kernel.accessAllowed ? 'block' : 'none';\n",
              "\n",
              "      buttonEl.onclick = () => {\n",
              "        google.colab.notebook.generateWithVariable('df');\n",
              "      }\n",
              "      })();\n",
              "    </script>\n",
              "  </div>\n",
              "\n",
              "    </div>\n",
              "  </div>\n"
            ],
            "application/vnd.google.colaboratory.intrinsic+json": {
              "type": "dataframe",
              "variable_name": "df"
            }
          },
          "metadata": {},
          "execution_count": 5
        }
      ],
      "source": [
        "# Assuming the file is in the root of your Google Drive\n",
        "csv_path = '/content/drive/MyDrive/Beatrice_data_main.csv'\n",
        "df=pd.read_csv(csv_path)\n",
        "df"
      ]
    },
    {
      "cell_type": "code",
      "execution_count": 6,
      "metadata": {
        "colab": {
          "base_uri": "https://localhost:8080/",
          "height": 1000
        },
        "id": "XsO8Ia9h0NZ6",
        "outputId": "f931e60c-6864-4f5c-c359-571862502606"
      },
      "outputs": [
        {
          "output_type": "stream",
          "name": "stdout",
          "text": [
            "Collecting earthkit\n",
            "  Downloading earthkit-0.12.0-py3-none-any.whl.metadata (7.9 kB)\n",
            "Collecting earthkit-data>=0.14.4 (from earthkit-data[all]>=0.14.4->earthkit)\n",
            "  Downloading earthkit_data-0.16.4-py3-none-any.whl.metadata (7.3 kB)\n",
            "Collecting earthkit-geo>=0.3 (from earthkit)\n",
            "  Downloading earthkit_geo-0.3.0-py3-none-any.whl.metadata (3.4 kB)\n",
            "Collecting earthkit-hydro>=0.1.3 (from earthkit)\n",
            "  Downloading earthkit_hydro-1.0.0-cp312-cp312-manylinux_2_28_x86_64.whl.metadata (6.3 kB)\n",
            "Collecting earthkit-meteo>=0.4.1 (from earthkit)\n",
            "  Downloading earthkit_meteo-0.4.1-py3-none-any.whl.metadata (4.7 kB)\n",
            "Collecting earthkit-plots>=0.3.1 (from earthkit)\n",
            "  Downloading earthkit_plots-0.3.5-py3-none-any.whl.metadata (5.5 kB)\n",
            "Collecting earthkit-regrid>=0.4 (from earthkit)\n",
            "  Downloading earthkit_regrid-0.4.0-py3-none-any.whl.metadata (2.6 kB)\n",
            "Collecting earthkit-time>=0.1.7 (from earthkit)\n",
            "  Downloading earthkit_time-0.1.7-py3-none-any.whl.metadata (16 kB)\n",
            "Collecting earthkit-transforms>=0.4 (from earthkit)\n",
            "  Downloading earthkit_transforms-0.4.0-py3-none-any.whl.metadata (17 kB)\n",
            "Collecting earthkit-utils>=0.0.1 (from earthkit)\n",
            "  Downloading earthkit_utils-0.1.1-py3-none-any.whl.metadata (4.2 kB)\n",
            "Collecting earthkit-workflows>=0.3.6 (from earthkit)\n",
            "  Downloading earthkit_workflows-0.4.7-py3-none-any.whl.metadata (1.6 kB)\n",
            "Collecting cfgrib>=0.9.10.1 (from earthkit-data>=0.14.4->earthkit-data[all]>=0.14.4->earthkit)\n",
            "  Downloading cfgrib-0.9.15.0-py3-none-any.whl.metadata (55 kB)\n",
            "\u001b[2K     \u001b[90m━━━━━━━━━━━━━━━━━━━━━━━━━━━━━━━━━━━━━━━━\u001b[0m \u001b[32m55.5/55.5 kB\u001b[0m \u001b[31m5.4 MB/s\u001b[0m eta \u001b[36m0:00:00\u001b[0m\n",
            "\u001b[?25hRequirement already satisfied: dask in /usr/local/lib/python3.12/dist-packages (from earthkit-data>=0.14.4->earthkit-data[all]>=0.14.4->earthkit) (2025.5.0)\n",
            "Collecting deprecation (from earthkit-data>=0.14.4->earthkit-data[all]>=0.14.4->earthkit)\n",
            "  Downloading deprecation-2.1.0-py2.py3-none-any.whl.metadata (4.6 kB)\n",
            "Collecting eccodes>=1.7 (from earthkit-data>=0.14.4->earthkit-data[all]>=0.14.4->earthkit)\n",
            "  Downloading eccodes-2.43.0-py3-none-any.whl.metadata (15 kB)\n",
            "Requirement already satisfied: entrypoints in /usr/local/lib/python3.12/dist-packages (from earthkit-data>=0.14.4->earthkit-data[all]>=0.14.4->earthkit) (0.4)\n",
            "Requirement already satisfied: filelock in /usr/local/lib/python3.12/dist-packages (from earthkit-data>=0.14.4->earthkit-data[all]>=0.14.4->earthkit) (3.19.1)\n",
            "Requirement already satisfied: jinja2 in /usr/local/lib/python3.12/dist-packages (from earthkit-data>=0.14.4->earthkit-data[all]>=0.14.4->earthkit) (3.1.6)\n",
            "Requirement already satisfied: jsonschema in /usr/local/lib/python3.12/dist-packages (from earthkit-data>=0.14.4->earthkit-data[all]>=0.14.4->earthkit) (4.25.1)\n",
            "Collecting lru-dict (from earthkit-data>=0.14.4->earthkit-data[all]>=0.14.4->earthkit)\n",
            "  Downloading lru_dict-1.3.0-cp312-cp312-manylinux_2_5_x86_64.manylinux1_x86_64.manylinux_2_17_x86_64.manylinux2014_x86_64.whl.metadata (4.5 kB)\n",
            "Requirement already satisfied: markdown in /usr/local/lib/python3.12/dist-packages (from earthkit-data>=0.14.4->earthkit-data[all]>=0.14.4->earthkit) (3.8.2)\n",
            "Collecting multiurl>=0.3.3 (from earthkit-data>=0.14.4->earthkit-data[all]>=0.14.4->earthkit)\n",
            "  Downloading multiurl-0.3.7-py3-none-any.whl.metadata (2.8 kB)\n",
            "Collecting netcdf4 (from earthkit-data>=0.14.4->earthkit-data[all]>=0.14.4->earthkit)\n",
            "  Downloading netCDF4-1.7.2-cp312-cp312-manylinux_2_17_x86_64.manylinux2014_x86_64.whl.metadata (1.8 kB)\n",
            "Requirement already satisfied: pandas in /usr/local/lib/python3.12/dist-packages (from earthkit-data>=0.14.4->earthkit-data[all]>=0.14.4->earthkit) (2.2.2)\n",
            "Collecting pdbufr>=0.11 (from earthkit-data>=0.14.4->earthkit-data[all]>=0.14.4->earthkit)\n",
            "  Downloading pdbufr-0.14.0-py3-none-any.whl.metadata (3.3 kB)\n",
            "Requirement already satisfied: pyyaml in /usr/local/lib/python3.12/dist-packages (from earthkit-data>=0.14.4->earthkit-data[all]>=0.14.4->earthkit) (6.0.2)\n",
            "Requirement already satisfied: tqdm>=4.63 in /usr/local/lib/python3.12/dist-packages (from earthkit-data>=0.14.4->earthkit-data[all]>=0.14.4->earthkit) (4.67.1)\n",
            "Requirement already satisfied: xarray>=0.19 in /usr/local/lib/python3.12/dist-packages (from earthkit-data>=0.14.4->earthkit-data[all]>=0.14.4->earthkit) (2025.8.0)\n",
            "Requirement already satisfied: pyproj in /usr/local/lib/python3.12/dist-packages (from earthkit-geo>=0.3->earthkit) (3.7.2)\n",
            "Collecting cartopy (from earthkit-geo>=0.3->earthkit)\n",
            "  Downloading cartopy-0.25.0-cp312-cp312-manylinux_2_24_x86_64.manylinux_2_28_x86_64.whl.metadata (6.1 kB)\n",
            "Requirement already satisfied: scipy in /usr/local/lib/python3.12/dist-packages (from earthkit-geo>=0.3->earthkit) (1.16.1)\n",
            "Requirement already satisfied: numpy in /usr/local/lib/python3.12/dist-packages (from earthkit-hydro>=0.1.3->earthkit) (2.0.2)\n",
            "Requirement already satisfied: joblib in /usr/local/lib/python3.12/dist-packages (from earthkit-hydro>=0.1.3->earthkit) (1.5.2)\n",
            "Collecting earthkit-plots-default-styles>=0.1.2 (from earthkit-plots>=0.3.1->earthkit)\n",
            "  Downloading earthkit_plots_default_styles-0.1.2-py3-none-any.whl.metadata (1.3 kB)\n",
            "Collecting pint (from earthkit-plots>=0.3.1->earthkit)\n",
            "  Downloading pint-0.25-py3-none-any.whl.metadata (10 kB)\n",
            "Requirement already satisfied: matplotlib in /usr/local/lib/python3.12/dist-packages (from earthkit-plots>=0.3.1->earthkit) (3.10.0)\n",
            "Requirement already satisfied: plotly in /usr/local/lib/python3.12/dist-packages (from earthkit-plots>=0.3.1->earthkit) (5.24.1)\n",
            "Collecting adjustText (from earthkit-plots>=0.3.1->earthkit)\n",
            "  Downloading adjustText-1.3.0-py3-none-any.whl.metadata (3.1 kB)\n",
            "Requirement already satisfied: geopandas in /usr/local/lib/python3.12/dist-packages (from earthkit-transforms>=0.4->earthkit) (1.1.1)\n",
            "Collecting array-api-compat (from earthkit-utils>=0.0.1->earthkit)\n",
            "  Downloading array_api_compat-1.12.0-py3-none-any.whl.metadata (2.5 kB)\n",
            "Requirement already satisfied: cloudpickle in /usr/local/lib/python3.12/dist-packages (from earthkit-workflows>=0.3.6->earthkit) (3.1.1)\n",
            "Requirement already satisfied: networkx in /usr/local/lib/python3.12/dist-packages (from earthkit-workflows>=0.3.6->earthkit) (3.5)\n",
            "Requirement already satisfied: sortedcontainers in /usr/local/lib/python3.12/dist-packages (from earthkit-workflows>=0.3.6->earthkit) (2.4.0)\n",
            "Collecting pyvis (from earthkit-workflows>=0.3.6->earthkit)\n",
            "  Downloading pyvis-0.3.2-py3-none-any.whl.metadata (1.7 kB)\n",
            "Requirement already satisfied: dill in /usr/local/lib/python3.12/dist-packages (from earthkit-workflows>=0.3.6->earthkit) (0.3.8)\n",
            "Collecting pyrsistent (from earthkit-workflows>=0.3.6->earthkit)\n",
            "  Downloading pyrsistent-0.20.0-cp312-cp312-manylinux_2_17_x86_64.manylinux2014_x86_64.whl.metadata (27 kB)\n",
            "Requirement already satisfied: pydantic in /usr/local/lib/python3.12/dist-packages (from earthkit-workflows>=0.3.6->earthkit) (2.11.7)\n",
            "Collecting zmq (from earthkit-workflows>=0.3.6->earthkit)\n",
            "  Downloading zmq-0.0.0.zip (2.2 kB)\n",
            "  Preparing metadata (setup.py) ... \u001b[?25l\u001b[?25hdone\n",
            "Collecting fire (from earthkit-workflows>=0.3.6->earthkit)\n",
            "  Downloading fire-0.7.1-py3-none-any.whl.metadata (5.8 kB)\n",
            "Requirement already satisfied: orjson in /usr/local/lib/python3.12/dist-packages (from earthkit-workflows>=0.3.6->earthkit) (3.11.3)\n",
            "Requirement already satisfied: shapely>=2.0 in /usr/local/lib/python3.12/dist-packages (from cartopy->earthkit-geo>=0.3->earthkit) (2.1.1)\n",
            "Requirement already satisfied: packaging>=21 in /usr/local/lib/python3.12/dist-packages (from cartopy->earthkit-geo>=0.3->earthkit) (25.0)\n",
            "Requirement already satisfied: pyshp>=2.3 in /usr/local/lib/python3.12/dist-packages (from cartopy->earthkit-geo>=0.3->earthkit) (2.3.1)\n",
            "Requirement already satisfied: attrs>=19.2 in /usr/local/lib/python3.12/dist-packages (from cfgrib>=0.9.10.1->earthkit-data>=0.14.4->earthkit-data[all]>=0.14.4->earthkit) (25.3.0)\n",
            "Requirement already satisfied: click in /usr/local/lib/python3.12/dist-packages (from cfgrib>=0.9.10.1->earthkit-data>=0.14.4->earthkit-data[all]>=0.14.4->earthkit) (8.2.1)\n",
            "Requirement already satisfied: cffi in /usr/local/lib/python3.12/dist-packages (from eccodes>=1.7->earthkit-data>=0.14.4->earthkit-data[all]>=0.14.4->earthkit) (1.17.1)\n",
            "Collecting findlibs (from eccodes>=1.7->earthkit-data>=0.14.4->earthkit-data[all]>=0.14.4->earthkit)\n",
            "  Downloading findlibs-0.1.2-py3-none-any.whl.metadata (4.5 kB)\n",
            "Collecting eccodeslib (from eccodes>=1.7->earthkit-data>=0.14.4->earthkit-data[all]>=0.14.4->earthkit)\n",
            "  Downloading eccodeslib-2.43.0-cp312-cp312-manylinux_2_28_x86_64.whl.metadata (4.2 kB)\n",
            "Requirement already satisfied: contourpy>=1.0.1 in /usr/local/lib/python3.12/dist-packages (from matplotlib->earthkit-plots>=0.3.1->earthkit) (1.3.3)\n",
            "Requirement already satisfied: cycler>=0.10 in /usr/local/lib/python3.12/dist-packages (from matplotlib->earthkit-plots>=0.3.1->earthkit) (0.12.1)\n",
            "Requirement already satisfied: fonttools>=4.22.0 in /usr/local/lib/python3.12/dist-packages (from matplotlib->earthkit-plots>=0.3.1->earthkit) (4.59.2)\n",
            "Requirement already satisfied: kiwisolver>=1.3.1 in /usr/local/lib/python3.12/dist-packages (from matplotlib->earthkit-plots>=0.3.1->earthkit) (1.4.9)\n",
            "Requirement already satisfied: pillow>=8 in /usr/local/lib/python3.12/dist-packages (from matplotlib->earthkit-plots>=0.3.1->earthkit) (11.3.0)\n",
            "Requirement already satisfied: pyparsing>=2.3.1 in /usr/local/lib/python3.12/dist-packages (from matplotlib->earthkit-plots>=0.3.1->earthkit) (3.2.3)\n",
            "Requirement already satisfied: python-dateutil>=2.7 in /usr/local/lib/python3.12/dist-packages (from matplotlib->earthkit-plots>=0.3.1->earthkit) (2.9.0.post0)\n",
            "Requirement already satisfied: requests in /usr/local/lib/python3.12/dist-packages (from multiurl>=0.3.3->earthkit-data>=0.14.4->earthkit-data[all]>=0.14.4->earthkit) (2.32.4)\n",
            "Requirement already satisfied: pytz in /usr/local/lib/python3.12/dist-packages (from multiurl>=0.3.3->earthkit-data>=0.14.4->earthkit-data[all]>=0.14.4->earthkit) (2025.2)\n",
            "Requirement already satisfied: certifi in /usr/local/lib/python3.12/dist-packages (from pyproj->earthkit-geo>=0.3->earthkit) (2025.8.3)\n",
            "Requirement already satisfied: tzdata>=2022.7 in /usr/local/lib/python3.12/dist-packages (from pandas->earthkit-data>=0.14.4->earthkit-data[all]>=0.14.4->earthkit) (2025.2)\n",
            "Requirement already satisfied: fsspec>=2021.09.0 in /usr/local/lib/python3.12/dist-packages (from dask->earthkit-data>=0.14.4->earthkit-data[all]>=0.14.4->earthkit) (2025.3.0)\n",
            "Requirement already satisfied: partd>=1.4.0 in /usr/local/lib/python3.12/dist-packages (from dask->earthkit-data>=0.14.4->earthkit-data[all]>=0.14.4->earthkit) (1.4.2)\n",
            "Requirement already satisfied: toolz>=0.10.0 in /usr/local/lib/python3.12/dist-packages (from dask->earthkit-data>=0.14.4->earthkit-data[all]>=0.14.4->earthkit) (0.12.1)\n",
            "Collecting cdsapi>=0.7.2 (from earthkit-data>=0.14.4->earthkit-data[all]>=0.14.4->earthkit)\n",
            "  Downloading cdsapi-0.7.6-py2.py3-none-any.whl.metadata (3.0 kB)\n",
            "Collecting covjsonkit>=0.2 (from earthkit-data>=0.14.4->earthkit-data[all]>=0.14.4->earthkit)\n",
            "  Downloading covjsonkit-0.2.2-py3-none-any.whl.metadata (461 bytes)\n",
            "Collecting ecmwf-opendata>=0.3.3 (from earthkit-data>=0.14.4->earthkit-data[all]>=0.14.4->earthkit)\n",
            "  Downloading ecmwf_opendata-0.3.23-py3-none-any.whl.metadata (22 kB)\n",
            "Collecting pyfdb>=0.1 (from earthkit-data>=0.14.4->earthkit-data[all]>=0.14.4->earthkit)\n",
            "  Downloading pyfdb-0.1.2-py3-none-any.whl.metadata (976 bytes)\n",
            "Collecting ecmwf-api-client>=1.6.1 (from earthkit-data>=0.14.4->earthkit-data[all]>=0.14.4->earthkit)\n",
            "  Downloading ecmwf_api_client-1.6.5-py3-none-any.whl.metadata (4.8 kB)\n",
            "Collecting pyodc (from earthkit-data>=0.14.4->earthkit-data[all]>=0.14.4->earthkit)\n",
            "  Downloading pyodc-1.6.0-py3-none-any.whl.metadata (9.6 kB)\n",
            "Collecting polytope-client>=0.7.6 (from earthkit-data>=0.14.4->earthkit-data[all]>=0.14.4->earthkit)\n",
            "  Downloading polytope_client-0.7.7-py3-none-any.whl.metadata (8.0 kB)\n",
            "Collecting aws-requests-auth (from earthkit-data>=0.14.4->earthkit-data[all]>=0.14.4->earthkit)\n",
            "  Downloading aws_requests_auth-0.4.3-py2.py3-none-any.whl.metadata (567 bytes)\n",
            "Collecting botocore (from earthkit-data>=0.14.4->earthkit-data[all]>=0.14.4->earthkit)\n",
            "  Downloading botocore-1.40.25-py3-none-any.whl.metadata (5.7 kB)\n",
            "Collecting hda>=2.22 (from earthkit-data>=0.14.4->earthkit-data[all]>=0.14.4->earthkit)\n",
            "  Downloading hda-2.34-py3-none-any.whl.metadata (13 kB)\n",
            "Requirement already satisfied: termcolor in /usr/local/lib/python3.12/dist-packages (from fire->earthkit-workflows>=0.3.6->earthkit) (3.1.0)\n",
            "Requirement already satisfied: pyogrio>=0.7.2 in /usr/local/lib/python3.12/dist-packages (from geopandas->earthkit-transforms>=0.4->earthkit) (0.11.1)\n",
            "Requirement already satisfied: MarkupSafe>=2.0 in /usr/local/lib/python3.12/dist-packages (from jinja2->earthkit-data>=0.14.4->earthkit-data[all]>=0.14.4->earthkit) (3.0.2)\n",
            "Requirement already satisfied: jsonschema-specifications>=2023.03.6 in /usr/local/lib/python3.12/dist-packages (from jsonschema->earthkit-data>=0.14.4->earthkit-data[all]>=0.14.4->earthkit) (2025.4.1)\n",
            "Requirement already satisfied: referencing>=0.28.4 in /usr/local/lib/python3.12/dist-packages (from jsonschema->earthkit-data>=0.14.4->earthkit-data[all]>=0.14.4->earthkit) (0.36.2)\n",
            "Requirement already satisfied: rpds-py>=0.7.1 in /usr/local/lib/python3.12/dist-packages (from jsonschema->earthkit-data>=0.14.4->earthkit-data[all]>=0.14.4->earthkit) (0.27.1)\n",
            "Collecting cftime (from netcdf4->earthkit-data>=0.14.4->earthkit-data[all]>=0.14.4->earthkit)\n",
            "  Downloading cftime-1.6.4.post1-cp312-cp312-manylinux_2_17_x86_64.manylinux2014_x86_64.whl.metadata (8.7 kB)\n",
            "Collecting flexcache>=0.3 (from pint->earthkit-plots>=0.3.1->earthkit)\n",
            "  Downloading flexcache-0.3-py3-none-any.whl.metadata (7.0 kB)\n",
            "Collecting flexparser>=0.4 (from pint->earthkit-plots>=0.3.1->earthkit)\n",
            "  Downloading flexparser-0.4-py3-none-any.whl.metadata (18 kB)\n",
            "Requirement already satisfied: platformdirs>=2.1.0 in /usr/local/lib/python3.12/dist-packages (from pint->earthkit-plots>=0.3.1->earthkit) (4.4.0)\n",
            "Requirement already satisfied: typing-extensions>=4.0.0 in /usr/local/lib/python3.12/dist-packages (from pint->earthkit-plots>=0.3.1->earthkit) (4.15.0)\n",
            "Requirement already satisfied: tenacity>=6.2.0 in /usr/local/lib/python3.12/dist-packages (from plotly->earthkit-plots>=0.3.1->earthkit) (8.5.0)\n",
            "Requirement already satisfied: annotated-types>=0.6.0 in /usr/local/lib/python3.12/dist-packages (from pydantic->earthkit-workflows>=0.3.6->earthkit) (0.7.0)\n",
            "Requirement already satisfied: pydantic-core==2.33.2 in /usr/local/lib/python3.12/dist-packages (from pydantic->earthkit-workflows>=0.3.6->earthkit) (2.33.2)\n",
            "Requirement already satisfied: typing-inspection>=0.4.0 in /usr/local/lib/python3.12/dist-packages (from pydantic->earthkit-workflows>=0.3.6->earthkit) (0.4.1)\n",
            "Requirement already satisfied: ipython>=5.3.0 in /usr/local/lib/python3.12/dist-packages (from pyvis->earthkit-workflows>=0.3.6->earthkit) (7.34.0)\n",
            "Requirement already satisfied: jsonpickle>=1.4.1 in /usr/local/lib/python3.12/dist-packages (from pyvis->earthkit-workflows>=0.3.6->earthkit) (4.1.1)\n",
            "Requirement already satisfied: pyzmq in /usr/local/lib/python3.12/dist-packages (from zmq->earthkit-workflows>=0.3.6->earthkit) (26.2.1)\n",
            "Collecting ecmwf-datastores-client (from cdsapi>=0.7.2->earthkit-data>=0.14.4->earthkit-data[all]>=0.14.4->earthkit)\n",
            "  Downloading ecmwf_datastores_client-0.4.0-py3-none-any.whl.metadata (21 kB)\n",
            "Collecting covjson-pydantic (from covjsonkit>=0.2->earthkit-data>=0.14.4->earthkit-data[all]>=0.14.4->earthkit)\n",
            "  Downloading covjson_pydantic-0.7.0-py3-none-any.whl.metadata (5.4 kB)\n",
            "Collecting conflator (from covjsonkit>=0.2->earthkit-data>=0.14.4->earthkit-data[all]>=0.14.4->earthkit)\n",
            "  Downloading conflator-0.1.7-py3-none-any.whl.metadata (4.8 kB)\n",
            "Requirement already satisfied: setuptools>=18.5 in /usr/local/lib/python3.12/dist-packages (from ipython>=5.3.0->pyvis->earthkit-workflows>=0.3.6->earthkit) (75.2.0)\n",
            "Collecting jedi>=0.16 (from ipython>=5.3.0->pyvis->earthkit-workflows>=0.3.6->earthkit)\n",
            "  Downloading jedi-0.19.2-py2.py3-none-any.whl.metadata (22 kB)\n",
            "Requirement already satisfied: decorator in /usr/local/lib/python3.12/dist-packages (from ipython>=5.3.0->pyvis->earthkit-workflows>=0.3.6->earthkit) (4.4.2)\n",
            "Requirement already satisfied: pickleshare in /usr/local/lib/python3.12/dist-packages (from ipython>=5.3.0->pyvis->earthkit-workflows>=0.3.6->earthkit) (0.7.5)\n",
            "Requirement already satisfied: traitlets>=4.2 in /usr/local/lib/python3.12/dist-packages (from ipython>=5.3.0->pyvis->earthkit-workflows>=0.3.6->earthkit) (5.7.1)\n",
            "Requirement already satisfied: prompt-toolkit!=3.0.0,!=3.0.1,<3.1.0,>=2.0.0 in /usr/local/lib/python3.12/dist-packages (from ipython>=5.3.0->pyvis->earthkit-workflows>=0.3.6->earthkit) (3.0.52)\n",
            "Requirement already satisfied: pygments in /usr/local/lib/python3.12/dist-packages (from ipython>=5.3.0->pyvis->earthkit-workflows>=0.3.6->earthkit) (2.19.2)\n",
            "Requirement already satisfied: backcall in /usr/local/lib/python3.12/dist-packages (from ipython>=5.3.0->pyvis->earthkit-workflows>=0.3.6->earthkit) (0.2.0)\n",
            "Requirement already satisfied: matplotlib-inline in /usr/local/lib/python3.12/dist-packages (from ipython>=5.3.0->pyvis->earthkit-workflows>=0.3.6->earthkit) (0.1.7)\n",
            "Requirement already satisfied: pexpect>4.3 in /usr/local/lib/python3.12/dist-packages (from ipython>=5.3.0->pyvis->earthkit-workflows>=0.3.6->earthkit) (4.9.0)\n",
            "Requirement already satisfied: locket in /usr/local/lib/python3.12/dist-packages (from partd>=1.4.0->dask->earthkit-data>=0.14.4->earthkit-data[all]>=0.14.4->earthkit) (1.0.0)\n",
            "Requirement already satisfied: docstring_parser in /usr/local/lib/python3.12/dist-packages (from polytope-client>=0.7.6->earthkit-data>=0.14.4->earthkit-data[all]>=0.14.4->earthkit) (0.17.0)\n",
            "Requirement already satisfied: six>=1.5 in /usr/local/lib/python3.12/dist-packages (from python-dateutil>=2.7->matplotlib->earthkit-plots>=0.3.1->earthkit) (1.17.0)\n",
            "Requirement already satisfied: charset_normalizer<4,>=2 in /usr/local/lib/python3.12/dist-packages (from requests->multiurl>=0.3.3->earthkit-data>=0.14.4->earthkit-data[all]>=0.14.4->earthkit) (3.4.3)\n",
            "Requirement already satisfied: idna<4,>=2.5 in /usr/local/lib/python3.12/dist-packages (from requests->multiurl>=0.3.3->earthkit-data>=0.14.4->earthkit-data[all]>=0.14.4->earthkit) (3.10)\n",
            "Requirement already satisfied: urllib3<3,>=1.21.1 in /usr/local/lib/python3.12/dist-packages (from requests->multiurl>=0.3.3->earthkit-data>=0.14.4->earthkit-data[all]>=0.14.4->earthkit) (2.5.0)\n",
            "Collecting jmespath<2.0.0,>=0.7.1 (from botocore->earthkit-data>=0.14.4->earthkit-data[all]>=0.14.4->earthkit)\n",
            "  Downloading jmespath-1.0.1-py3-none-any.whl.metadata (7.6 kB)\n",
            "Requirement already satisfied: pycparser in /usr/local/lib/python3.12/dist-packages (from cffi->eccodes>=1.7->earthkit-data>=0.14.4->earthkit-data[all]>=0.14.4->earthkit) (2.22)\n",
            "Collecting eckitlib<2,>=1.31.3 (from eccodeslib->eccodes>=1.7->earthkit-data>=0.14.4->earthkit-data[all]>=0.14.4->earthkit)\n",
            "  Downloading eckitlib-1.31.4-cp312-cp312-manylinux_2_27_x86_64.manylinux_2_28_x86_64.whl.metadata (3.3 kB)\n",
            "Collecting fckitlib<1,>=0.14.0 (from eccodeslib->eccodes>=1.7->earthkit-data>=0.14.4->earthkit-data[all]>=0.14.4->earthkit)\n",
            "  Downloading fckitlib-0.14.0-cp312-cp312-manylinux_2_28_x86_64.whl.metadata (3.1 kB)\n",
            "Collecting odclib<1.7.0,>=1.6.0 (from pyodc->earthkit-data>=0.14.4->earthkit-data[all]>=0.14.4->earthkit)\n",
            "  Downloading odclib-1.6.0-cp312-cp312-manylinux_2_28_x86_64.whl.metadata (2.7 kB)\n",
            "Requirement already satisfied: parso<0.9.0,>=0.8.4 in /usr/local/lib/python3.12/dist-packages (from jedi>=0.16->ipython>=5.3.0->pyvis->earthkit-workflows>=0.3.6->earthkit) (0.8.5)\n",
            "Requirement already satisfied: ptyprocess>=0.5 in /usr/local/lib/python3.12/dist-packages (from pexpect>4.3->ipython>=5.3.0->pyvis->earthkit-workflows>=0.3.6->earthkit) (0.7.0)\n",
            "Requirement already satisfied: wcwidth in /usr/local/lib/python3.12/dist-packages (from prompt-toolkit!=3.0.0,!=3.0.1,<3.1.0,>=2.0.0->ipython>=5.3.0->pyvis->earthkit-workflows>=0.3.6->earthkit) (0.2.13)\n",
            "Collecting argparse>1.0 (from conflator->covjsonkit>=0.2->earthkit-data>=0.14.4->earthkit-data[all]>=0.14.4->earthkit)\n",
            "  Downloading argparse-1.4.0-py2.py3-none-any.whl.metadata (2.8 kB)\n",
            "Requirement already satisfied: pytest>8.0 in /usr/local/lib/python3.12/dist-packages (from conflator->covjsonkit>=0.2->earthkit-data>=0.14.4->earthkit-data[all]>=0.14.4->earthkit) (8.4.1)\n",
            "Collecting rich-argparse>1.0 (from conflator->covjsonkit>=0.2->earthkit-data>=0.14.4->earthkit-data[all]>=0.14.4->earthkit)\n",
            "  Downloading rich_argparse-1.7.1-py3-none-any.whl.metadata (14 kB)\n",
            "Requirement already satisfied: iniconfig>=1 in /usr/local/lib/python3.12/dist-packages (from pytest>8.0->conflator->covjsonkit>=0.2->earthkit-data>=0.14.4->earthkit-data[all]>=0.14.4->earthkit) (2.1.0)\n",
            "Requirement already satisfied: pluggy<2,>=1.5 in /usr/local/lib/python3.12/dist-packages (from pytest>8.0->conflator->covjsonkit>=0.2->earthkit-data>=0.14.4->earthkit-data[all]>=0.14.4->earthkit) (1.6.0)\n",
            "Requirement already satisfied: rich>=11.0.0 in /usr/local/lib/python3.12/dist-packages (from rich-argparse>1.0->conflator->covjsonkit>=0.2->earthkit-data>=0.14.4->earthkit-data[all]>=0.14.4->earthkit) (13.9.4)\n",
            "Requirement already satisfied: markdown-it-py>=2.2.0 in /usr/local/lib/python3.12/dist-packages (from rich>=11.0.0->rich-argparse>1.0->conflator->covjsonkit>=0.2->earthkit-data>=0.14.4->earthkit-data[all]>=0.14.4->earthkit) (4.0.0)\n",
            "Requirement already satisfied: mdurl~=0.1 in /usr/local/lib/python3.12/dist-packages (from markdown-it-py>=2.2.0->rich>=11.0.0->rich-argparse>1.0->conflator->covjsonkit>=0.2->earthkit-data>=0.14.4->earthkit-data[all]>=0.14.4->earthkit) (0.1.2)\n",
            "Downloading earthkit-0.12.0-py3-none-any.whl (8.2 kB)\n",
            "Downloading earthkit_data-0.16.4-py3-none-any.whl (378 kB)\n",
            "\u001b[2K   \u001b[90m━━━━━━━━━━━━━━━━━━━━━━━━━━━━━━━━━━━━━━━━\u001b[0m \u001b[32m378.3/378.3 kB\u001b[0m \u001b[31m17.2 MB/s\u001b[0m eta \u001b[36m0:00:00\u001b[0m\n",
            "\u001b[?25hDownloading earthkit_geo-0.3.0-py3-none-any.whl (17 kB)\n",
            "Downloading earthkit_hydro-1.0.0-cp312-cp312-manylinux_2_28_x86_64.whl (401 kB)\n",
            "\u001b[2K   \u001b[90m━━━━━━━━━━━━━━━━━━━━━━━━━━━━━━━━━━━━━━━━\u001b[0m \u001b[32m401.5/401.5 kB\u001b[0m \u001b[31m36.8 MB/s\u001b[0m eta \u001b[36m0:00:00\u001b[0m\n",
            "\u001b[?25hDownloading earthkit_meteo-0.4.1-py3-none-any.whl (56 kB)\n",
            "\u001b[2K   \u001b[90m━━━━━━━━━━━━━━━━━━━━━━━━━━━━━━━━━━━━━━━━\u001b[0m \u001b[32m56.9/56.9 kB\u001b[0m \u001b[31m6.4 MB/s\u001b[0m eta \u001b[36m0:00:00\u001b[0m\n",
            "\u001b[?25hDownloading earthkit_plots-0.3.5-py3-none-any.whl (2.7 MB)\n",
            "\u001b[2K   \u001b[90m━━━━━━━━━━━━━━━━━━━━━━━━━━━━━━━━━━━━━━━━\u001b[0m \u001b[32m2.7/2.7 MB\u001b[0m \u001b[31m28.6 MB/s\u001b[0m eta \u001b[36m0:00:00\u001b[0m\n",
            "\u001b[?25hDownloading earthkit_regrid-0.4.0-py3-none-any.whl (36 kB)\n",
            "Downloading earthkit_time-0.1.7-py3-none-any.whl (27 kB)\n",
            "Downloading earthkit_transforms-0.4.0-py3-none-any.whl (34 kB)\n",
            "Downloading earthkit_utils-0.1.1-py3-none-any.whl (20 kB)\n",
            "Downloading earthkit_workflows-0.4.7-py3-none-any.whl (158 kB)\n",
            "\u001b[2K   \u001b[90m━━━━━━━━━━━━━━━━━━━━━━━━━━━━━━━━━━━━━━━━\u001b[0m \u001b[32m158.2/158.2 kB\u001b[0m \u001b[31m17.8 MB/s\u001b[0m eta \u001b[36m0:00:00\u001b[0m\n",
            "\u001b[?25hDownloading cartopy-0.25.0-cp312-cp312-manylinux_2_24_x86_64.manylinux_2_28_x86_64.whl (11.8 MB)\n",
            "\u001b[2K   \u001b[90m━━━━━━━━━━━━━━━━━━━━━━━━━━━━━━━━━━━━━━━━\u001b[0m \u001b[32m11.8/11.8 MB\u001b[0m \u001b[31m126.1 MB/s\u001b[0m eta \u001b[36m0:00:00\u001b[0m\n",
            "\u001b[?25hDownloading cfgrib-0.9.15.0-py3-none-any.whl (48 kB)\n",
            "\u001b[2K   \u001b[90m━━━━━━━━━━━━━━━━━━━━━━━━━━━━━━━━━━━━━━━━\u001b[0m \u001b[32m48.9/48.9 kB\u001b[0m \u001b[31m3.8 MB/s\u001b[0m eta \u001b[36m0:00:00\u001b[0m\n",
            "\u001b[?25hDownloading earthkit_plots_default_styles-0.1.2-py3-none-any.whl (19 kB)\n",
            "Downloading eccodes-2.43.0-py3-none-any.whl (44 kB)\n",
            "\u001b[2K   \u001b[90m━━━━━━━━━━━━━━━━━━━━━━━━━━━━━━━━━━━━━━━━\u001b[0m \u001b[32m44.4/44.4 kB\u001b[0m \u001b[31m3.9 MB/s\u001b[0m eta \u001b[36m0:00:00\u001b[0m\n",
            "\u001b[?25hDownloading multiurl-0.3.7-py3-none-any.whl (21 kB)\n",
            "Downloading pdbufr-0.14.0-py3-none-any.whl (52 kB)\n",
            "\u001b[2K   \u001b[90m━━━━━━━━━━━━━━━━━━━━━━━━━━━━━━━━━━━━━━━━\u001b[0m \u001b[32m52.6/52.6 kB\u001b[0m \u001b[31m5.7 MB/s\u001b[0m eta \u001b[36m0:00:00\u001b[0m\n",
            "\u001b[?25hDownloading adjustText-1.3.0-py3-none-any.whl (13 kB)\n",
            "Downloading array_api_compat-1.12.0-py3-none-any.whl (58 kB)\n",
            "\u001b[2K   \u001b[90m━━━━━━━━━━━━━━━━━━━━━━━━━━━━━━━━━━━━━━━━\u001b[0m \u001b[32m58.2/58.2 kB\u001b[0m \u001b[31m6.3 MB/s\u001b[0m eta \u001b[36m0:00:00\u001b[0m\n",
            "\u001b[?25hDownloading deprecation-2.1.0-py2.py3-none-any.whl (11 kB)\n",
            "Downloading fire-0.7.1-py3-none-any.whl (115 kB)\n",
            "\u001b[2K   \u001b[90m━━━━━━━━━━━━━━━━━━━━━━━━━━━━━━━━━━━━━━━━\u001b[0m \u001b[32m115.9/115.9 kB\u001b[0m \u001b[31m13.5 MB/s\u001b[0m eta \u001b[36m0:00:00\u001b[0m\n",
            "\u001b[?25hDownloading lru_dict-1.3.0-cp312-cp312-manylinux_2_5_x86_64.manylinux1_x86_64.manylinux_2_17_x86_64.manylinux2014_x86_64.whl (32 kB)\n",
            "Downloading netCDF4-1.7.2-cp312-cp312-manylinux_2_17_x86_64.manylinux2014_x86_64.whl (9.3 MB)\n",
            "\u001b[2K   \u001b[90m━━━━━━━━━━━━━━━━━━━━━━━━━━━━━━━━━━━━━━━━\u001b[0m \u001b[32m9.3/9.3 MB\u001b[0m \u001b[31m131.1 MB/s\u001b[0m eta \u001b[36m0:00:00\u001b[0m\n",
            "\u001b[?25hDownloading pint-0.25-py3-none-any.whl (305 kB)\n",
            "\u001b[2K   \u001b[90m━━━━━━━━━━━━━━━━━━━━━━━━━━━━━━━━━━━━━━━━\u001b[0m \u001b[32m305.5/305.5 kB\u001b[0m \u001b[31m29.6 MB/s\u001b[0m eta \u001b[36m0:00:00\u001b[0m\n",
            "\u001b[?25hDownloading pyrsistent-0.20.0-cp312-cp312-manylinux_2_17_x86_64.manylinux2014_x86_64.whl (122 kB)\n",
            "\u001b[2K   \u001b[90m━━━━━━━━━━━━━━━━━━━━━━━━━━━━━━━━━━━━━━━━\u001b[0m \u001b[32m122.3/122.3 kB\u001b[0m \u001b[31m13.5 MB/s\u001b[0m eta \u001b[36m0:00:00\u001b[0m\n",
            "\u001b[?25hDownloading pyvis-0.3.2-py3-none-any.whl (756 kB)\n",
            "\u001b[2K   \u001b[90m━━━━━━━━━━━━━━━━━━━━━━━━━━━━━━━━━━━━━━━━\u001b[0m \u001b[32m756.0/756.0 kB\u001b[0m \u001b[31m59.0 MB/s\u001b[0m eta \u001b[36m0:00:00\u001b[0m\n",
            "\u001b[?25hDownloading cdsapi-0.7.6-py2.py3-none-any.whl (12 kB)\n",
            "Downloading covjsonkit-0.2.2-py3-none-any.whl (484 kB)\n",
            "\u001b[2K   \u001b[90m━━━━━━━━━━━━━━━━━━━━━━━━━━━━━━━━━━━━━━━━\u001b[0m \u001b[32m484.9/484.9 kB\u001b[0m \u001b[31m45.4 MB/s\u001b[0m eta \u001b[36m0:00:00\u001b[0m\n",
            "\u001b[?25hDownloading ecmwf_api_client-1.6.5-py3-none-any.whl (13 kB)\n",
            "Downloading ecmwf_opendata-0.3.23-py3-none-any.whl (20 kB)\n",
            "Downloading flexcache-0.3-py3-none-any.whl (13 kB)\n",
            "Downloading flexparser-0.4-py3-none-any.whl (27 kB)\n",
            "Downloading hda-2.34-py3-none-any.whl (19 kB)\n",
            "Downloading polytope_client-0.7.7-py3-none-any.whl (52 kB)\n",
            "\u001b[2K   \u001b[90m━━━━━━━━━━━━━━━━━━━━━━━━━━━━━━━━━━━━━━━━\u001b[0m \u001b[32m52.2/52.2 kB\u001b[0m \u001b[31m5.6 MB/s\u001b[0m eta \u001b[36m0:00:00\u001b[0m\n",
            "\u001b[?25hDownloading pyfdb-0.1.2-py3-none-any.whl (16 kB)\n",
            "Downloading aws_requests_auth-0.4.3-py2.py3-none-any.whl (6.8 kB)\n",
            "Downloading botocore-1.40.25-py3-none-any.whl (14.0 MB)\n",
            "\u001b[2K   \u001b[90m━━━━━━━━━━━━━━━━━━━━━━━━━━━━━━━━━━━━━━━━\u001b[0m \u001b[32m14.0/14.0 MB\u001b[0m \u001b[31m131.8 MB/s\u001b[0m eta \u001b[36m0:00:00\u001b[0m\n",
            "\u001b[?25hDownloading cftime-1.6.4.post1-cp312-cp312-manylinux_2_17_x86_64.manylinux2014_x86_64.whl (1.4 MB)\n",
            "\u001b[2K   \u001b[90m━━━━━━━━━━━━━━━━━━━━━━━━━━━━━━━━━━━━━━━━\u001b[0m \u001b[32m1.4/1.4 MB\u001b[0m \u001b[31m69.4 MB/s\u001b[0m eta \u001b[36m0:00:00\u001b[0m\n",
            "\u001b[?25hDownloading eccodeslib-2.43.0-cp312-cp312-manylinux_2_28_x86_64.whl (20.5 MB)\n",
            "\u001b[2K   \u001b[90m━━━━━━━━━━━━━━━━━━━━━━━━━━━━━━━━━━━━━━━━\u001b[0m \u001b[32m20.5/20.5 MB\u001b[0m \u001b[31m51.2 MB/s\u001b[0m eta \u001b[36m0:00:00\u001b[0m\n",
            "\u001b[?25hDownloading findlibs-0.1.2-py3-none-any.whl (10 kB)\n",
            "Downloading pyodc-1.6.0-py3-none-any.whl (32 kB)\n",
            "Downloading eckitlib-1.31.4-cp312-cp312-manylinux_2_27_x86_64.manylinux_2_28_x86_64.whl (45.2 MB)\n",
            "\u001b[2K   \u001b[90m━━━━━━━━━━━━━━━━━━━━━━━━━━━━━━━━━━━━━━━━\u001b[0m \u001b[32m45.2/45.2 MB\u001b[0m \u001b[31m14.3 MB/s\u001b[0m eta \u001b[36m0:00:00\u001b[0m\n",
            "\u001b[?25hDownloading fckitlib-0.14.0-cp312-cp312-manylinux_2_28_x86_64.whl (13.3 MB)\n",
            "\u001b[2K   \u001b[90m━━━━━━━━━━━━━━━━━━━━━━━━━━━━━━━━━━━━━━━━\u001b[0m \u001b[32m13.3/13.3 MB\u001b[0m \u001b[31m121.8 MB/s\u001b[0m eta \u001b[36m0:00:00\u001b[0m\n",
            "\u001b[?25hDownloading jedi-0.19.2-py2.py3-none-any.whl (1.6 MB)\n",
            "\u001b[2K   \u001b[90m━━━━━━━━━━━━━━━━━━━━━━━━━━━━━━━━━━━━━━━━\u001b[0m \u001b[32m1.6/1.6 MB\u001b[0m \u001b[31m80.6 MB/s\u001b[0m eta \u001b[36m0:00:00\u001b[0m\n",
            "\u001b[?25hDownloading jmespath-1.0.1-py3-none-any.whl (20 kB)\n",
            "Downloading odclib-1.6.0-cp312-cp312-manylinux_2_28_x86_64.whl (12.0 MB)\n",
            "\u001b[2K   \u001b[90m━━━━━━━━━━━━━━━━━━━━━━━━━━━━━━━━━━━━━━━━\u001b[0m \u001b[32m12.0/12.0 MB\u001b[0m \u001b[31m21.8 MB/s\u001b[0m eta \u001b[36m0:00:00\u001b[0m\n",
            "\u001b[?25hDownloading conflator-0.1.7-py3-none-any.whl (10 kB)\n",
            "Downloading covjson_pydantic-0.7.0-py3-none-any.whl (14 kB)\n",
            "Downloading ecmwf_datastores_client-0.4.0-py3-none-any.whl (29 kB)\n",
            "Downloading argparse-1.4.0-py2.py3-none-any.whl (23 kB)\n",
            "Downloading rich_argparse-1.7.1-py3-none-any.whl (25 kB)\n",
            "Building wheels for collected packages: zmq\n",
            "  Building wheel for zmq (setup.py) ... \u001b[?25l\u001b[?25hdone\n",
            "  Created wheel for zmq: filename=zmq-0.0.0-py3-none-any.whl size=1265 sha256=6ed41a775e37b141570f2d6bcc8ce4c161b012dcd59a2faf3b90536dc6544633\n",
            "  Stored in directory: /root/.cache/pip/wheels/68/8e/d4/3ed4272b059c74f0b9ae3930e45f075f295805c87d69b850f0\n",
            "Successfully built zmq\n",
            "Installing collected packages: findlibs, ecmwf-api-client, eckitlib, argparse, zmq, pyrsistent, odclib, lru-dict, jmespath, jedi, flexparser, flexcache, fire, fckitlib, earthkit-time, earthkit-plots-default-styles, deprecation, cftime, array-api-compat, pint, netcdf4, multiurl, hda, eccodeslib, earthkit-utils, botocore, aws-requests-auth, rich-argparse, pyvis, pyodc, ecmwf-opendata, ecmwf-datastores-client, eccodes, earthkit-regrid, earthkit-meteo, covjson-pydantic, cartopy, adjustText, pyfdb, polytope-client, pdbufr, earthkit-hydro, earthkit-geo, conflator, cfgrib, cdsapi, earthkit-data, covjsonkit, earthkit-workflows, earthkit-transforms, earthkit-plots, earthkit\n",
            "Successfully installed adjustText-1.3.0 argparse-1.4.0 array-api-compat-1.12.0 aws-requests-auth-0.4.3 botocore-1.40.25 cartopy-0.25.0 cdsapi-0.7.6 cfgrib-0.9.15.0 cftime-1.6.4.post1 conflator-0.1.7 covjson-pydantic-0.7.0 covjsonkit-0.2.2 deprecation-2.1.0 earthkit-0.12.0 earthkit-data-0.16.4 earthkit-geo-0.3.0 earthkit-hydro-1.0.0 earthkit-meteo-0.4.1 earthkit-plots-0.3.5 earthkit-plots-default-styles-0.1.2 earthkit-regrid-0.4.0 earthkit-time-0.1.7 earthkit-transforms-0.4.0 earthkit-utils-0.1.1 earthkit-workflows-0.4.7 eccodes-2.43.0 eccodeslib-2.43.0 eckitlib-1.31.4 ecmwf-api-client-1.6.5 ecmwf-datastores-client-0.4.0 ecmwf-opendata-0.3.23 fckitlib-0.14.0 findlibs-0.1.2 fire-0.7.1 flexcache-0.3 flexparser-0.4 hda-2.34 jedi-0.19.2 jmespath-1.0.1 lru-dict-1.3.0 multiurl-0.3.7 netcdf4-1.7.2 odclib-1.6.0 pdbufr-0.14.0 pint-0.25 polytope-client-0.7.7 pyfdb-0.1.2 pyodc-1.6.0 pyrsistent-0.20.0 pyvis-0.3.2 rich-argparse-1.7.1 zmq-0.0.0\n"
          ]
        },
        {
          "output_type": "display_data",
          "data": {
            "application/vnd.colab-display-data+json": {
              "pip_warning": {
                "packages": [
                  "argparse"
                ]
              },
              "id": "680f3ba2533347698dbf637f1c37cd71"
            }
          },
          "metadata": {}
        }
      ],
      "source": [
        "pip install earthkit"
      ]
    },
    {
      "cell_type": "code",
      "source": [
        "pip install \"cdsapi>=0.7.4\""
      ],
      "metadata": {
        "colab": {
          "base_uri": "https://localhost:8080/"
        },
        "id": "vLK0FC7Am0oN",
        "outputId": "56da1788-709a-46a5-d702-5ecf2a8b3e45"
      },
      "execution_count": 7,
      "outputs": [
        {
          "output_type": "stream",
          "name": "stdout",
          "text": [
            "Requirement already satisfied: cdsapi>=0.7.4 in /usr/local/lib/python3.12/dist-packages (0.7.6)\n",
            "Requirement already satisfied: ecmwf-datastores-client in /usr/local/lib/python3.12/dist-packages (from cdsapi>=0.7.4) (0.4.0)\n",
            "Requirement already satisfied: requests>=2.5.0 in /usr/local/lib/python3.12/dist-packages (from cdsapi>=0.7.4) (2.32.4)\n",
            "Requirement already satisfied: tqdm in /usr/local/lib/python3.12/dist-packages (from cdsapi>=0.7.4) (4.67.1)\n",
            "Requirement already satisfied: charset_normalizer<4,>=2 in /usr/local/lib/python3.12/dist-packages (from requests>=2.5.0->cdsapi>=0.7.4) (3.4.3)\n",
            "Requirement already satisfied: idna<4,>=2.5 in /usr/local/lib/python3.12/dist-packages (from requests>=2.5.0->cdsapi>=0.7.4) (3.10)\n",
            "Requirement already satisfied: urllib3<3,>=1.21.1 in /usr/local/lib/python3.12/dist-packages (from requests>=2.5.0->cdsapi>=0.7.4) (2.5.0)\n",
            "Requirement already satisfied: certifi>=2017.4.17 in /usr/local/lib/python3.12/dist-packages (from requests>=2.5.0->cdsapi>=0.7.4) (2025.8.3)\n",
            "Requirement already satisfied: attrs in /usr/local/lib/python3.12/dist-packages (from ecmwf-datastores-client->cdsapi>=0.7.4) (25.3.0)\n",
            "Requirement already satisfied: multiurl>=0.3.7 in /usr/local/lib/python3.12/dist-packages (from ecmwf-datastores-client->cdsapi>=0.7.4) (0.3.7)\n",
            "Requirement already satisfied: typing-extensions in /usr/local/lib/python3.12/dist-packages (from ecmwf-datastores-client->cdsapi>=0.7.4) (4.15.0)\n",
            "Requirement already satisfied: pytz in /usr/local/lib/python3.12/dist-packages (from multiurl>=0.3.7->ecmwf-datastores-client->cdsapi>=0.7.4) (2025.2)\n",
            "Requirement already satisfied: python-dateutil in /usr/local/lib/python3.12/dist-packages (from multiurl>=0.3.7->ecmwf-datastores-client->cdsapi>=0.7.4) (2.9.0.post0)\n",
            "Requirement already satisfied: six>=1.5 in /usr/local/lib/python3.12/dist-packages (from python-dateutil->multiurl>=0.3.7->ecmwf-datastores-client->cdsapi>=0.7.4) (1.17.0)\n"
          ]
        }
      ]
    },
    {
      "cell_type": "code",
      "execution_count": 8,
      "metadata": {
        "id": "wuKvVNHBWqzK"
      },
      "outputs": [],
      "source": [
        "import earthkit.data as ekd"
      ]
    },
    {
      "cell_type": "code",
      "source": [
        "import os\n",
        "\n",
        "# Replace with your actual CDS API key and URL\n",
        "api_key = \"7df12769-13db-4525-a1f7-1c365b81619b\"\n",
        "api_url = \"https://cds.climate.copernicus.eu/api\" # Added https://\n",
        "\n",
        "# Create the .cdsapirc file\n",
        "with open(os.path.expanduser(\"~/.cdsapirc\"), \"w\") as f:\n",
        "    f.write(f\"url: {api_url}\\n\")\n",
        "    f.write(f\"key: {api_key}\\n\")\n",
        "\n",
        "print(\".cdsapirc file created successfully.\")"
      ],
      "metadata": {
        "colab": {
          "base_uri": "https://localhost:8080/"
        },
        "id": "lOH2wcf1An9H",
        "outputId": "39d75fca-2585-4d58-b9c5-287d97903cfd"
      },
      "execution_count": 14,
      "outputs": [
        {
          "output_type": "stream",
          "name": "stdout",
          "text": [
            ".cdsapirc file created successfully.\n"
          ]
        }
      ]
    },
    {
      "cell_type": "code",
      "source": [
        "'''import cdsapi\n",
        "\n",
        "client = cdsapi.Client()\n",
        "\n",
        "dataset = \"<DATASET-SHORT-NAME>\"\n",
        "request = {\n",
        "    <SELECTION-REQUEST>\n",
        "}\n",
        "target = \"<TARGET-FILE>\"\n",
        "\n",
        "client.retrieve(dataset, request, target)'''"
      ],
      "metadata": {
        "id": "hbkDkgk8nGxM"
      },
      "execution_count": null,
      "outputs": []
    },
    {
      "cell_type": "code",
      "execution_count": 15,
      "metadata": {
        "colab": {
          "base_uri": "https://localhost:8080/",
          "height": 211,
          "referenced_widgets": [
            "020e5af7dc064cd08eed5251554d918d",
            "e603f0d2dbfd4f3d88004b52138cf8c1",
            "232f1a48597949d9be66293bddbe6102",
            "ceb557f2b1914efea672c76d2ff4071b",
            "ebb42e6f60d94efcbf40dcaa4a3025c7",
            "cd8754c2de5a4b309812cb6ceb22a404",
            "f9f4cec0f8f242a19474199f60964a87",
            "149f838ab83a4bda901d320864359eac",
            "db32234e58ea45f398de5ca8b4812944",
            "1305988ab2ac4d329030652122a8ea61",
            "f48558b2e77c49b5bec232e9e92542b9"
          ]
        },
        "id": "U3ktTY0cXOzt",
        "outputId": "b8968502-ace6-4850-a9b9-38dfa8da4746"
      },
      "outputs": [
        {
          "output_type": "stream",
          "name": "stderr",
          "text": [
            "2025-09-06 13:13:24,337 INFO [2024-09-26T00:00:00] Watch our [Forum](https://forum.ecmwf.int/) for Announcements, news and other discussed topics.\n",
            "INFO:ecmwf.datastores.legacy_client:[2024-09-26T00:00:00] Watch our [Forum](https://forum.ecmwf.int/) for Announcements, news and other discussed topics.\n",
            "2025-09-06 13:13:24,858 INFO Request ID is cc507565-8ee6-4808-a3bd-42fb04313c22\n",
            "INFO:ecmwf.datastores.legacy_client:Request ID is cc507565-8ee6-4808-a3bd-42fb04313c22\n",
            "2025-09-06 13:13:25,010 INFO status has been updated to accepted\n",
            "INFO:ecmwf.datastores.legacy_client:status has been updated to accepted\n",
            "2025-09-06 13:13:33,753 INFO status has been updated to running\n",
            "INFO:ecmwf.datastores.legacy_client:status has been updated to running\n",
            "2025-09-06 13:13:38,950 INFO status has been updated to successful\n",
            "INFO:ecmwf.datastores.legacy_client:status has been updated to successful\n"
          ]
        },
        {
          "output_type": "display_data",
          "data": {
            "text/plain": [
              "56f5c5702ed46ca55d7cdc67549ab0c2.zip:   0%|          | 0.00/226M [00:00<?, ?B/s]"
            ],
            "application/vnd.jupyter.widget-view+json": {
              "version_major": 2,
              "version_minor": 0,
              "model_id": "020e5af7dc064cd08eed5251554d918d"
            }
          },
          "metadata": {}
        }
      ],
      "source": [
        "import cdsapi\n",
        "\n",
        "dataset = \"reanalysis-era5-single-levels\"\n",
        "request = {\n",
        "    \"product_type\": [\"ensemble_spread\"],\n",
        "    \"variable\": [\n",
        "        \"10m_u_component_of_wind\",\n",
        "        \"10m_v_component_of_wind\",\n",
        "        \"2m_dewpoint_temperature\",\n",
        "        \"mean_sea_level_pressure\",\n",
        "        \"surface_pressure\",\n",
        "\n",
        "    ],\n",
        "    \"year\": [\n",
        "\n",
        "\n",
        "\n",
        "        \"2018\", \"2019\", \"2020\"\n",
        "    ],\n",
        "    \"month\": [\n",
        "        \"01\", \"02\", \"03\",\n",
        "        \"04\", \"05\", \"06\",\n",
        "        \"07\", \"08\", \"09\",\n",
        "        \"10\", \"11\", \"12\"\n",
        "    ],\n",
        "    \"day\": [\n",
        "        \"01\", \"02\", \"03\",\n",
        "        \"04\", \"05\", \"06\",\n",
        "        \"07\", \"08\", \"09\",\n",
        "        \"10\", \"11\", \"12\",\n",
        "        \"13\", \"14\", \"15\",\n",
        "        \"16\", \"17\", \"18\",\n",
        "        \"19\", \"20\", \"21\",\n",
        "        \"22\", \"23\", \"24\",\n",
        "        \"25\", \"26\", \"27\",\n",
        "        \"28\", \"29\", \"30\",\n",
        "        \"31\"\n",
        "    ],\n",
        "    \"time\": [\n",
        "        \"00:00\", \"03:00\", \"06:00\",\n",
        "        \"09:00\", \"12:00\", \"15:00\",\n",
        "        \"18:00\", \"21:00\"\n",
        "    ],\n",
        "    \"data_format\": \"grib\",\n",
        "    \"download_format\": \"zip\",\n",
        "    \"area\": [58.13, -2.93, -58.13, 2.93]\n",
        "}\n",
        "\n",
        "client = cdsapi.Client()\n",
        "client.retrieve(dataset, request).download()\n",
        "\n",
        "target = 'download.grib'\n",
        "\n"
      ]
    },
    {
      "cell_type": "code",
      "source": [
        "!pip install pygrib"
      ],
      "metadata": {
        "colab": {
          "base_uri": "https://localhost:8080/"
        },
        "id": "kMPi06wcB6BT",
        "outputId": "4dd990f6-8d71-4b94-a4a8-9f6b1f936a0e"
      },
      "execution_count": 16,
      "outputs": [
        {
          "output_type": "stream",
          "name": "stdout",
          "text": [
            "Requirement already satisfied: pygrib in /usr/local/lib/python3.12/dist-packages (2.1.6)\n",
            "Requirement already satisfied: packaging in /usr/local/lib/python3.12/dist-packages (from pygrib) (25.0)\n",
            "Requirement already satisfied: pyproj in /usr/local/lib/python3.12/dist-packages (from pygrib) (3.7.2)\n",
            "Requirement already satisfied: numpy in /usr/local/lib/python3.12/dist-packages (from pygrib) (2.0.2)\n",
            "Requirement already satisfied: certifi in /usr/local/lib/python3.12/dist-packages (from pyproj->pygrib) (2025.8.3)\n"
          ]
        }
      ]
    },
    {
      "cell_type": "code",
      "source": [
        "'56f5c5702ed46ca55d7cdc67549ab0c2.zip'"
      ],
      "metadata": {
        "colab": {
          "base_uri": "https://localhost:8080/",
          "height": 35
        },
        "id": "5aE2mhnjIQ2b",
        "outputId": "ae756c28-c8d9-410f-fe4f-9544d76fbd04"
      },
      "execution_count": 9,
      "outputs": [
        {
          "output_type": "execute_result",
          "data": {
            "text/plain": [
              "'56f5c5702ed46ca55d7cdc67549ab0c2.zip'"
            ],
            "application/vnd.google.colaboratory.intrinsic+json": {
              "type": "string"
            }
          },
          "metadata": {},
          "execution_count": 9
        }
      ]
    },
    {
      "cell_type": "code",
      "source": [
        "import pygrib\n",
        "grbs = pygrib.open('download.grib')\n",
        "for grb in grbs:\n",
        "  print(grb)"
      ],
      "metadata": {
        "colab": {
          "base_uri": "https://localhost:8080/",
          "height": 228
        },
        "id": "Atq8ND7QDjae",
        "outputId": "a269ce1e-97a7-4f57-b1ce-8536e1dd13fd"
      },
      "execution_count": 7,
      "outputs": [
        {
          "output_type": "error",
          "ename": "OSError",
          "evalue": "[Errno could not open %s] download.grib",
          "traceback": [
            "\u001b[0;31m---------------------------------------------------------------------------\u001b[0m",
            "\u001b[0;31mOSError\u001b[0m                                   Traceback (most recent call last)",
            "\u001b[0;32m/tmp/ipython-input-3023015450.py\u001b[0m in \u001b[0;36m<cell line: 0>\u001b[0;34m()\u001b[0m\n\u001b[1;32m      1\u001b[0m \u001b[0;32mimport\u001b[0m \u001b[0mpygrib\u001b[0m\u001b[0;34m\u001b[0m\u001b[0;34m\u001b[0m\u001b[0m\n\u001b[0;32m----> 2\u001b[0;31m \u001b[0mgrbs\u001b[0m \u001b[0;34m=\u001b[0m \u001b[0mpygrib\u001b[0m\u001b[0;34m.\u001b[0m\u001b[0mopen\u001b[0m\u001b[0;34m(\u001b[0m\u001b[0;34m'download.grib'\u001b[0m\u001b[0;34m)\u001b[0m\u001b[0;34m\u001b[0m\u001b[0;34m\u001b[0m\u001b[0m\n\u001b[0m\u001b[1;32m      3\u001b[0m \u001b[0;32mfor\u001b[0m \u001b[0mgrb\u001b[0m \u001b[0;32min\u001b[0m \u001b[0mgrbs\u001b[0m\u001b[0;34m:\u001b[0m\u001b[0;34m\u001b[0m\u001b[0;34m\u001b[0m\u001b[0m\n\u001b[1;32m      4\u001b[0m   \u001b[0mprint\u001b[0m\u001b[0;34m(\u001b[0m\u001b[0mgrb\u001b[0m\u001b[0;34m)\u001b[0m\u001b[0;34m\u001b[0m\u001b[0;34m\u001b[0m\u001b[0m\n",
            "\u001b[0;32msrc/pygrib/_pygrib.pyx\u001b[0m in \u001b[0;36mpygrib._pygrib.open.__cinit__\u001b[0;34m()\u001b[0m\n",
            "\u001b[0;31mOSError\u001b[0m: [Errno could not open %s] download.grib"
          ]
        }
      ]
    },
    {
      "cell_type": "code",
      "source": [
        "import pygrib\n",
        "\n",
        "extracted_dir = 'extracted_grib'\n",
        "grib_files = [f for f in os.listdir(extracted_dir) if f.endswith('.grib')]\n",
        "\n",
        "if grib_files:\n",
        "    grib_file_path = os.path.join(extracted_dir, grib_files[0])\n",
        "    grbs = pygrib.open(grib_file_path)\n",
        "    for grb in grbs:\n",
        "        print(grb.name, grb.values, grb.validDate)\n",
        "    grbs.close()\n",
        "else:\n",
        "    print(\"No grib files found to open.\")"
      ],
      "metadata": {
        "colab": {
          "base_uri": "https://localhost:8080/",
          "height": 211
        },
        "id": "pURcjw6ACeAH",
        "outputId": "cac79c03-145b-422e-c6c6-e319ff092244"
      },
      "execution_count": 17,
      "outputs": [
        {
          "output_type": "error",
          "ename": "FileNotFoundError",
          "evalue": "[Errno 2] No such file or directory: 'extracted_grib'",
          "traceback": [
            "\u001b[0;31m---------------------------------------------------------------------------\u001b[0m",
            "\u001b[0;31mFileNotFoundError\u001b[0m                         Traceback (most recent call last)",
            "\u001b[0;32m/tmp/ipython-input-90328231.py\u001b[0m in \u001b[0;36m<cell line: 0>\u001b[0;34m()\u001b[0m\n\u001b[1;32m      2\u001b[0m \u001b[0;34m\u001b[0m\u001b[0m\n\u001b[1;32m      3\u001b[0m \u001b[0mextracted_dir\u001b[0m \u001b[0;34m=\u001b[0m \u001b[0;34m'extracted_grib'\u001b[0m\u001b[0;34m\u001b[0m\u001b[0;34m\u001b[0m\u001b[0m\n\u001b[0;32m----> 4\u001b[0;31m \u001b[0mgrib_files\u001b[0m \u001b[0;34m=\u001b[0m \u001b[0;34m[\u001b[0m\u001b[0mf\u001b[0m \u001b[0;32mfor\u001b[0m \u001b[0mf\u001b[0m \u001b[0;32min\u001b[0m \u001b[0mos\u001b[0m\u001b[0;34m.\u001b[0m\u001b[0mlistdir\u001b[0m\u001b[0;34m(\u001b[0m\u001b[0mextracted_dir\u001b[0m\u001b[0;34m)\u001b[0m \u001b[0;32mif\u001b[0m \u001b[0mf\u001b[0m\u001b[0;34m.\u001b[0m\u001b[0mendswith\u001b[0m\u001b[0;34m(\u001b[0m\u001b[0;34m'.grib'\u001b[0m\u001b[0;34m)\u001b[0m\u001b[0;34m]\u001b[0m\u001b[0;34m\u001b[0m\u001b[0;34m\u001b[0m\u001b[0m\n\u001b[0m\u001b[1;32m      5\u001b[0m \u001b[0;34m\u001b[0m\u001b[0m\n\u001b[1;32m      6\u001b[0m \u001b[0;32mif\u001b[0m \u001b[0mgrib_files\u001b[0m\u001b[0;34m:\u001b[0m\u001b[0;34m\u001b[0m\u001b[0;34m\u001b[0m\u001b[0m\n",
            "\u001b[0;31mFileNotFoundError\u001b[0m: [Errno 2] No such file or directory: 'extracted_grib'"
          ]
        }
      ]
    },
    {
      "cell_type": "code",
      "source": [
        "import pygrib\n",
        "grbs = pygrib.open('download.grib')\n",
        "for grb in grbs:\n",
        "    print(grb.name, grb.values, grb.validDate)\n",
        "grbs.close()"
      ],
      "metadata": {
        "colab": {
          "base_uri": "https://localhost:8080/",
          "height": 385
        },
        "id": "ClHdQIuGBWF3",
        "outputId": "f069cfc8-70c9-4705-df19-4225fe711690"
      },
      "execution_count": 3,
      "outputs": [
        {
          "output_type": "error",
          "ename": "ModuleNotFoundError",
          "evalue": "No module named 'pygrib'",
          "traceback": [
            "\u001b[0;31m---------------------------------------------------------------------------\u001b[0m",
            "\u001b[0;31mModuleNotFoundError\u001b[0m                       Traceback (most recent call last)",
            "\u001b[0;32m/tmp/ipython-input-362548042.py\u001b[0m in \u001b[0;36m<cell line: 0>\u001b[0;34m()\u001b[0m\n\u001b[0;32m----> 1\u001b[0;31m \u001b[0;32mimport\u001b[0m \u001b[0mpygrib\u001b[0m\u001b[0;34m\u001b[0m\u001b[0;34m\u001b[0m\u001b[0m\n\u001b[0m\u001b[1;32m      2\u001b[0m \u001b[0mgrbs\u001b[0m \u001b[0;34m=\u001b[0m \u001b[0mpygrib\u001b[0m\u001b[0;34m.\u001b[0m\u001b[0mopen\u001b[0m\u001b[0;34m(\u001b[0m\u001b[0;34m'download.grib'\u001b[0m\u001b[0;34m)\u001b[0m\u001b[0;34m\u001b[0m\u001b[0;34m\u001b[0m\u001b[0m\n\u001b[1;32m      3\u001b[0m \u001b[0;32mfor\u001b[0m \u001b[0mgrb\u001b[0m \u001b[0;32min\u001b[0m \u001b[0mgrbs\u001b[0m\u001b[0;34m:\u001b[0m\u001b[0;34m\u001b[0m\u001b[0;34m\u001b[0m\u001b[0m\n\u001b[1;32m      4\u001b[0m     \u001b[0mprint\u001b[0m\u001b[0;34m(\u001b[0m\u001b[0mgrb\u001b[0m\u001b[0;34m.\u001b[0m\u001b[0mname\u001b[0m\u001b[0;34m,\u001b[0m \u001b[0mgrb\u001b[0m\u001b[0;34m.\u001b[0m\u001b[0mvalues\u001b[0m\u001b[0;34m,\u001b[0m \u001b[0mgrb\u001b[0m\u001b[0;34m.\u001b[0m\u001b[0mvalidDate\u001b[0m\u001b[0;34m)\u001b[0m\u001b[0;34m\u001b[0m\u001b[0;34m\u001b[0m\u001b[0m\n\u001b[1;32m      5\u001b[0m \u001b[0mgrbs\u001b[0m\u001b[0;34m.\u001b[0m\u001b[0mclose\u001b[0m\u001b[0;34m(\u001b[0m\u001b[0;34m)\u001b[0m\u001b[0;34m\u001b[0m\u001b[0;34m\u001b[0m\u001b[0m\n",
            "\u001b[0;31mModuleNotFoundError\u001b[0m: No module named 'pygrib'",
            "",
            "\u001b[0;31m---------------------------------------------------------------------------\u001b[0;32m\nNOTE: If your import is failing due to a missing package, you can\nmanually install dependencies using either !pip or !apt.\n\nTo view examples of installing some common dependencies, click the\n\"Open Examples\" button below.\n\u001b[0;31m---------------------------------------------------------------------------\u001b[0m\n"
          ],
          "errorDetails": {
            "actions": [
              {
                "action": "open_url",
                "actionText": "Open Examples",
                "url": "/notebooks/snippets/importing_libraries.ipynb"
              }
            ]
          }
        }
      ]
    },
    {
      "cell_type": "code",
      "execution_count": null,
      "metadata": {
        "id": "zsx2NtkrVH7N"
      },
      "outputs": [],
      "source": [
        "!apt-get install cdo"
      ]
    },
    {
      "cell_type": "markdown",
      "metadata": {
        "id": "GKhg-cyMsJsM"
      },
      "source": [
        "#Important Arguments"
      ]
    },
    {
      "cell_type": "markdown",
      "metadata": {
        "id": "zgBHAvQDoZcE"
      },
      "source": [
        "#Get data"
      ]
    },
    {
      "cell_type": "code",
      "execution_count": null,
      "metadata": {
        "id": "HVsejvM2hdMC"
      },
      "outputs": [],
      "source": [
        "!cdo --version"
      ]
    },
    {
      "cell_type": "code",
      "execution_count": null,
      "metadata": {
        "id": "OEVAKiU0ho32"
      },
      "outputs": [],
      "source": [
        "!apt-get install libnetcdf-dev libhdf5-dev"
      ]
    },
    {
      "cell_type": "code",
      "execution_count": null,
      "metadata": {
        "id": "3oocWAgN3a5j"
      },
      "outputs": [],
      "source": [
        "!cdo sinfo sample.nc"
      ]
    },
    {
      "cell_type": "code",
      "execution_count": null,
      "metadata": {
        "id": "umrS50_h6rpI"
      },
      "outputs": [],
      "source": [
        "!wget https://repo.anaconda.com/miniconda/Miniconda3-latest-Linux-x86_64.sh\n",
        "!bash Miniconda3-latest-Linux-x86_64.sh -b -f -p /usr/local\n",
        "!rm Miniconda3-latest-Linux-x86_64.sh\n",
        "import sys\n",
        "sys.path.append('/usr/local/lib/python3.10/site-packages/')"
      ]
    },
    {
      "cell_type": "code",
      "execution_count": null,
      "metadata": {
        "id": "YLGcKy7Noepc"
      },
      "outputs": [],
      "source": [
        "\n",
        "#df['time'] = pd.to_datetime(df['time'], format='%Y-%m-%d %H:%M:%S', errors='coerce')\n",
        "#df"
      ]
    },
    {
      "cell_type": "code",
      "execution_count": null,
      "metadata": {
        "id": "KhbxtOFQuzn2"
      },
      "outputs": [],
      "source": [
        "df.info()"
      ]
    },
    {
      "cell_type": "code",
      "execution_count": null,
      "metadata": {
        "id": "d_fz3x623MAA"
      },
      "outputs": [],
      "source": [
        "df.plot(x=\"time\", y=\"Power\", figsize=(20,5))"
      ]
    },
    {
      "cell_type": "code",
      "execution_count": null,
      "metadata": {
        "id": "ABRd6cNhs50P"
      },
      "outputs": [],
      "source": [
        "df.iloc[:500].plot(x=\"time\", y=\"Power\", figsize=(20,5))"
      ]
    },
    {
      "cell_type": "markdown",
      "metadata": {
        "id": "AfyjQrIgt02o"
      },
      "source": [
        "#Initial Cleaning\n"
      ]
    },
    {
      "cell_type": "markdown",
      "metadata": {
        "id": "7F3AR3VOuD6_"
      },
      "source": [
        "I used already cleaned data from data exploration notebook\n"
      ]
    },
    {
      "cell_type": "code",
      "execution_count": null,
      "metadata": {
        "id": "Ei1W3wZA4MvE"
      },
      "outputs": [],
      "source": [
        "df.iloc[:500].plot(x=\"Windspeed\", y=\"Power\", figsize=(20,5))"
      ]
    },
    {
      "cell_type": "code",
      "execution_count": null,
      "metadata": {
        "id": "yHJcFUhURquL"
      },
      "outputs": [],
      "source": [
        "from pyts.image import GramianAngularField\n",
        "import numpy as np\n",
        "import matplotlib.pyplot as plt\n",
        "\n",
        "# Sample data, excluding the 'time' column\n",
        "X = df.drop('time', axis=1).values.T  # Shape: (n_variables, n_timesteps)\n",
        "gaf = GramianAngularField(image_size=24, method='summation')\n",
        "X_gaf = gaf.fit_transform(X)\n",
        "\n",
        "# Plot GAF for each variable\n",
        "for i, img in enumerate(X_gaf):\n",
        "    plt.figure()\n",
        "    plt.imshow(img, cmap='rainbow')\n",
        "    plt.title(f'GAF for {df.columns[i+1]}') # Adjust index to match excluded column\n",
        "    plt.colorbar()\n",
        "    plt.show()"
      ]
    },
    {
      "cell_type": "markdown",
      "metadata": {
        "id": "DloWRmCNte3r"
      },
      "source": [
        "# Data Processing Pipeline"
      ]
    },
    {
      "cell_type": "code",
      "execution_count": null,
      "metadata": {
        "id": "OXWVv-LEtahC"
      },
      "outputs": [],
      "source": [
        "from tsfm_public.toolkit.time_series_preprocessor import TimeSeriesPreprocessor\n",
        "\n",
        "dataset_path = DATA_ROOT_PATH\n",
        "timestamp_column = \"time\"\n",
        "id_columns = []\n",
        "target_columns = ['Power']\n",
        "split_config = {\n",
        "                \"train\": [0, 12 * 30 * 24 * 4],\n",
        "                \"valid\": [12 * 30 * 24 * 4, 12 * 30 * 24 * 4 + 4 * 30 * 24 * 4],\n",
        "                \"test\": [\n",
        "                    12 * 30 * 24 * 4 + 4 * 30 * 24 * 4,\n",
        "                    12 * 30 * 24 * 4 + 8 * 30 * 24 * 4,\n",
        "                ],\n",
        "            }\n",
        "# Understanding the split config -- slides\n",
        "\n",
        "#data = pd.read_csv(dataset_path,parse_dates=[timestamp_column],)\n",
        "\n",
        "column_specifiers = {\n",
        "    \"timestamp_column\": timestamp_column,\n",
        "    \"id_columns\": id_columns,\n",
        "    \"target_columns\": target_columns,\n",
        "    \"control_columns\": [\n",
        "        'u100',\n",
        "        'v100',\n",
        "        'fsr',\n",
        "        'Windspeed',\n",
        "        'Scaled_Windspeed_(at_90m)',\n",
        "        'Wind_Direction',\n",
        "        'precipitation (mm)',\n",
        "        'rain (mm)',\n",
        "        'pressure_msl (hPa)'\n",
        "    ],\n",
        "}\n",
        "\n",
        "tsp = TimeSeriesPreprocessor(\n",
        "    **column_specifiers,\n",
        "    context_length=context_length,\n",
        "    prediction_length=forecast_length,\n",
        "    scaling=True,\n",
        "    encode_categorical=False,\n",
        "    scaler_type=\"standard\",\n",
        ")\n",
        "\n",
        "train_dataset, valid_dataset, test_dataset = tsp.get_datasets(\n",
        "    data, split_config, fewshot_fraction=fewshot_fraction, fewshot_location=\"first\"\n",
        ")\n",
        "print(f\"Data lengths: train = {len(train_dataset)}, val = {len(valid_dataset)}, test = {len(test_dataset)}\")"
      ]
    },
    {
      "cell_type": "code",
      "execution_count": null,
      "metadata": {
        "id": "pgtqhlwC3skT"
      },
      "outputs": [],
      "source": [
        "train_dataset[3]"
      ]
    },
    {
      "cell_type": "markdown",
      "metadata": {
        "id": "Ky87FL214Fv3"
      },
      "source": [
        "#Zero-shot evaluation method"
      ]
    },
    {
      "cell_type": "code",
      "execution_count": null,
      "metadata": {
        "collapsed": true,
        "id": "9FIYHN7E4HnK"
      },
      "outputs": [],
      "source": [
        "zeroshot_model = TinyTimeMixerForPrediction.from_pretrained(\"ibm/TTM\", revision=TTM_MODEL_REVISION)\n",
        "zeroshot_model"
      ]
    },
    {
      "cell_type": "code",
      "execution_count": null,
      "metadata": {
        "id": "PlDbrToR4QFb"
      },
      "outputs": [],
      "source": [
        "temp_dir = tempfile.mkdtemp()\n",
        "# zeroshot_trainer\n",
        "zeroshot_trainer = Trainer(\n",
        "    model=zeroshot_model,\n",
        "    args=TrainingArguments(\n",
        "        output_dir=temp_dir,\n",
        "        per_device_eval_batch_size=64,\n",
        "    )\n",
        ")"
      ]
    },
    {
      "cell_type": "code",
      "execution_count": null,
      "metadata": {
        "id": "SoVQmfOv6S8y"
      },
      "outputs": [],
      "source": [
        "import wandb\n",
        "\n",
        "wandb.login(key=\"30426370ccf0c5477118a427f0bed8eb18e5f832\") # Replace YOUR_API_KEY\n",
        "# Initialize wandb before evaluating\n",
        "wandb.init(project=\"Beatrice_ttm\", name=\"test run\")  # Replace with your project and run names\n"
      ]
    },
    {
      "cell_type": "code",
      "execution_count": null,
      "metadata": {
        "id": "hOnYwThS4Q8c"
      },
      "outputs": [],
      "source": [
        "zeroshot_trainer.evaluate(test_dataset)"
      ]
    },
    {
      "cell_type": "code",
      "execution_count": null,
      "metadata": {
        "id": "JWX7AZTyD8xh"
      },
      "outputs": [],
      "source": [
        "# plot\n",
        "from tsfm_public.toolkit.visualization import plot_predictions\n",
        "plot_predictions(\n",
        "    model=zeroshot_trainer.model,\n",
        "    dset=test_dataset,\n",
        "    plot_dir=os.path.join(OUT_DIR, target_dataset),\n",
        "    plot_prefix=\"test_zeroshot\",\n",
        "    channel=0,\n",
        ")"
      ]
    },
    {
      "cell_type": "markdown",
      "metadata": {
        "id": "-lt6LgCZEhxs"
      },
      "source": [
        "# Few-Shot evaluation model"
      ]
    },
    {
      "cell_type": "code",
      "execution_count": null,
      "metadata": {
        "collapsed": true,
        "id": "4BFqdNyxErNK"
      },
      "outputs": [],
      "source": [
        "finetune_forecast_model = TinyTimeMixerForPrediction.from_pretrained(\"ibm/TTM\", revision=TTM_MODEL_REVISION, head_dropout=0.7)\n",
        "finetune_forecast_model"
      ]
    },
    {
      "cell_type": "markdown",
      "metadata": {
        "id": "1pAXNWMWFAU0"
      },
      "source": [
        "###Freeze the TTM backbone"
      ]
    },
    {
      "cell_type": "code",
      "execution_count": null,
      "metadata": {
        "id": "R7C16aU9E1u7"
      },
      "outputs": [],
      "source": [
        "print(\n",
        "        \"Number of params before freezing backbone\",\n",
        "        count_parameters(finetune_forecast_model),\n",
        "    )\n",
        "\n",
        "# Freeze the backbone of the model\n",
        "for param in finetune_forecast_model.backbone.parameters():\n",
        "    param.requires_grad = False\n",
        "\n",
        "# Count params\n",
        "print(\n",
        "    \"Number of params after freezing the backbone\",\n",
        "    count_parameters(finetune_forecast_model),\n",
        ")"
      ]
    },
    {
      "cell_type": "markdown",
      "metadata": {
        "id": "9E_2SC6WFWlJ"
      },
      "source": [
        "## Fine tune few-shot 5%"
      ]
    },
    {
      "cell_type": "code",
      "execution_count": null,
      "metadata": {
        "id": "qJp3dktbFExx"
      },
      "outputs": [],
      "source": [
        "# Important parameters\n",
        "learning_rate = 0.001\n",
        "num_epochs = 10 # Ideally, we need more epochs (try offline preferably in a gpu for faster computation)\n",
        "batch_size = 64"
      ]
    },
    {
      "cell_type": "code",
      "execution_count": null,
      "metadata": {
        "id": "KR8Cfu8fFOVx"
      },
      "outputs": [],
      "source": [
        "print(f\"Using learning rate = {learning_rate}\")\n",
        "finetune_forecast_args = TrainingArguments(\n",
        "    output_dir=os.path.join(OUT_DIR, \"output\"),\n",
        "    overwrite_output_dir=True,\n",
        "    learning_rate=learning_rate,\n",
        "    num_train_epochs=num_epochs,\n",
        "    do_eval=True,\n",
        "    evaluation_strategy=\"epoch\",\n",
        "    per_device_train_batch_size=batch_size,\n",
        "    per_device_eval_batch_size=batch_size,\n",
        "    dataloader_num_workers=8,\n",
        "    report_to=None,\n",
        "    save_strategy=\"epoch\",\n",
        "    logging_strategy=\"epoch\",\n",
        "    save_total_limit=1,\n",
        "    logging_dir=os.path.join(OUT_DIR, \"logs\"),  # Make sure to specify a logging directory\n",
        "    load_best_model_at_end=True,  # Load the best model when training ends\n",
        "    metric_for_best_model=\"eval_loss\",  # Metric to monitor for early stopping\n",
        "    greater_is_better=False,  # For loss\n",
        ")\n",
        "\n",
        "# Create the early stopping callback\n",
        "early_stopping_callback = EarlyStoppingCallback(\n",
        "    early_stopping_patience=10,  # Number of epochs with no improvement after which to stop\n",
        "    early_stopping_threshold=0.0,  # Minimum improvement required to consider as improvement\n",
        ")\n",
        "tracking_callback = TrackingCallback()\n",
        "\n",
        "# Optimizer and scheduler\n",
        "optimizer = AdamW(finetune_forecast_model.parameters(), lr=learning_rate)\n",
        "scheduler = OneCycleLR(\n",
        "    optimizer,\n",
        "    learning_rate,\n",
        "    epochs=num_epochs,\n",
        "    steps_per_epoch=math.ceil(len(train_dataset) / (batch_size)),\n",
        ")\n",
        "\n",
        "finetune_forecast_trainer = Trainer(\n",
        "    model=finetune_forecast_model,\n",
        "    args=finetune_forecast_args,\n",
        "    train_dataset=train_dataset,\n",
        "    eval_dataset=valid_dataset,\n",
        "    callbacks=[early_stopping_callback, tracking_callback],\n",
        "    optimizers=(optimizer, scheduler),\n",
        ")\n",
        "\n",
        "# Fine tune\n",
        "finetune_forecast_trainer.train()"
      ]
    },
    {
      "cell_type": "code",
      "execution_count": null,
      "metadata": {
        "id": "Fcmc-8mVFk2G"
      },
      "outputs": [],
      "source": [
        "finetune_forecast_trainer.evaluate(test_dataset)"
      ]
    },
    {
      "cell_type": "code",
      "execution_count": null,
      "metadata": {
        "id": "c0lcdtJ7GMCx"
      },
      "outputs": [],
      "source": [
        "plot_predictions(\n",
        "    model=finetune_forecast_trainer.model,\n",
        "    dset=test_dataset,\n",
        "    plot_dir=os.path.join(OUT_DIR, target_dataset),\n",
        "    plot_prefix=\"test_finetune\",\n",
        "    channel=0,\n",
        ")"
      ]
    },
    {
      "cell_type": "code",
      "execution_count": null,
      "metadata": {
        "id": "o-kVVRY0h2CU"
      },
      "outputs": [],
      "source": [
        "# prompt: Save the few shot model and compress to zip\n",
        "\n",
        "import zipfile\n",
        "import os\n",
        "\n",
        "# Define the directory containing the model files\n",
        "model_directory = \"/content/sample_data/finetuned_ttm_model\"\n",
        "\n",
        "# Define the zip file name\n",
        "zip_file_name = \"few_shot_model.zip\"\n",
        "\n",
        "# Create a zip file\n",
        "with zipfile.ZipFile(zip_file_name, 'w', zipfile.ZIP_DEFLATED) as zipf:\n",
        "    for root, _, files in os.walk(model_directory):\n",
        "        for file in files:\n",
        "            zipf.write(os.path.join(root, file),\n",
        "                       os.path.relpath(os.path.join(root, file), model_directory))\n",
        "\n",
        "print(f\"Model saved and compressed to {zip_file_name}\")\n"
      ]
    },
    {
      "cell_type": "code",
      "execution_count": null,
      "metadata": {
        "id": "9WEv3C9_jVf1"
      },
      "outputs": [],
      "source": [
        "# prompt: load model from zip file\n",
        "\n",
        "import zipfile\n",
        "import torch\n",
        "from transformers import Trainer, TrainingArguments\n",
        "\n",
        "# Define the path to your zip file\n",
        "zip_file_path = \"/content/tsfm/few_shot_model.zip\"\n",
        "\n",
        "# Define the directory to extract the model to\n",
        "extract_dir = \"extracted_model\"\n",
        "\n",
        "# Extract the zip file\n",
        "with zipfile.ZipFile(zip_file_path, 'r') as zip_ref:\n",
        "    zip_ref.extractall(extract_dir)\n",
        "\n",
        "# Load the model from the extracted directory\n",
        "model = TinyTimeMixerForPrediction.from_pretrained(extract_dir) # Assuming TinyTimeMixerForPrediction is defined\n",
        "\n",
        "# Example usage (assuming you have a test dataset and trainer setup)\n",
        "# Load the training arguments from the extracted directory or define your own.\n",
        "# Replace with the path to your saved training arguments if you have them\n",
        "training_args = TrainingArguments(output_dir=\"./results\")\n",
        "\n",
        "# Create a trainer\n",
        "trainer = Trainer(\n",
        "    model=model,\n",
        "    args=training_args,\n",
        "    eval_dataset=test_dataset\n",
        ")\n",
        "# Evaluate the model\n",
        "trainer.evaluate()\n"
      ]
    },
    {
      "cell_type": "code",
      "execution_count": null,
      "metadata": {
        "id": "8512cf30"
      },
      "outputs": [],
      "source": [
        "!pip install tsfm-public"
      ]
    },
    {
      "cell_type": "code",
      "source": [
        "pURcjw6ACeAH"
      ],
      "metadata": {
        "colab": {
          "base_uri": "https://localhost:8080/",
          "height": 141
        },
        "id": "V85yZmBUDHmU",
        "outputId": "a8032bea-d59c-46c4-8d57-57fc8b0a041d"
      },
      "execution_count": 20,
      "outputs": [
        {
          "output_type": "error",
          "ename": "NameError",
          "evalue": "name 'pURcjw6ACeAH' is not defined",
          "traceback": [
            "\u001b[0;31m---------------------------------------------------------------------------\u001b[0m",
            "\u001b[0;31mNameError\u001b[0m                                 Traceback (most recent call last)",
            "\u001b[0;32m/tmp/ipython-input-1961544076.py\u001b[0m in \u001b[0;36m<cell line: 0>\u001b[0;34m()\u001b[0m\n\u001b[0;32m----> 1\u001b[0;31m \u001b[0mpURcjw6ACeAH\u001b[0m\u001b[0;34m\u001b[0m\u001b[0;34m\u001b[0m\u001b[0m\n\u001b[0m",
            "\u001b[0;31mNameError\u001b[0m: name 'pURcjw6ACeAH' is not defined"
          ]
        }
      ]
    },
    {
      "cell_type": "code",
      "execution_count": null,
      "metadata": {
        "id": "25e42878"
      },
      "outputs": [],
      "source": [
        "!pip install tsfm-public"
      ]
    },
    {
      "cell_type": "code",
      "execution_count": 22,
      "metadata": {
        "id": "e2d59afc",
        "colab": {
          "base_uri": "https://localhost:8080/"
        },
        "outputId": "d0abf667-cc84-47e9-ccbc-3a2d06559ef6"
      },
      "outputs": [
        {
          "output_type": "stream",
          "name": "stdout",
          "text": [
            ".cdsapirc file created successfully.\n"
          ]
        }
      ],
      "source": [
        "import os\n",
        "\n",
        "# Replace with your actual CDS API key and URL\n",
        "api_key = \"7df12769-13db-4525-a1f7-1c365b81619b\"\n",
        "api_url = \"https://cds.climate.copernicus.eu/api\" # Added https://\n",
        "\n",
        "# Create the .cdsapirc file\n",
        "with open(os.path.expanduser(\"~/.cdsapirc\"), \"w\") as f:\n",
        "    f.write(f\"url: {api_url}\\n\")\n",
        "    f.write(f\"key: {api_key}\\n\")\n",
        "\n",
        "print(\".cdsapirc file created successfully.\")"
      ]
    }
  ],
  "metadata": {
    "accelerator": "GPU",
    "colab": {
      "gpuType": "T4",
      "provenance": [],
      "include_colab_link": true
    },
    "kernelspec": {
      "display_name": "Python 3",
      "name": "python3"
    },
    "language_info": {
      "name": "python"
    },
    "widgets": {
      "application/vnd.jupyter.widget-state+json": {
        "020e5af7dc064cd08eed5251554d918d": {
          "model_module": "@jupyter-widgets/controls",
          "model_name": "HBoxModel",
          "model_module_version": "1.5.0",
          "state": {
            "_dom_classes": [],
            "_model_module": "@jupyter-widgets/controls",
            "_model_module_version": "1.5.0",
            "_model_name": "HBoxModel",
            "_view_count": null,
            "_view_module": "@jupyter-widgets/controls",
            "_view_module_version": "1.5.0",
            "_view_name": "HBoxView",
            "box_style": "",
            "children": [
              "IPY_MODEL_e603f0d2dbfd4f3d88004b52138cf8c1",
              "IPY_MODEL_232f1a48597949d9be66293bddbe6102",
              "IPY_MODEL_ceb557f2b1914efea672c76d2ff4071b"
            ],
            "layout": "IPY_MODEL_ebb42e6f60d94efcbf40dcaa4a3025c7"
          }
        },
        "e603f0d2dbfd4f3d88004b52138cf8c1": {
          "model_module": "@jupyter-widgets/controls",
          "model_name": "HTMLModel",
          "model_module_version": "1.5.0",
          "state": {
            "_dom_classes": [],
            "_model_module": "@jupyter-widgets/controls",
            "_model_module_version": "1.5.0",
            "_model_name": "HTMLModel",
            "_view_count": null,
            "_view_module": "@jupyter-widgets/controls",
            "_view_module_version": "1.5.0",
            "_view_name": "HTMLView",
            "description": "",
            "description_tooltip": null,
            "layout": "IPY_MODEL_cd8754c2de5a4b309812cb6ceb22a404",
            "placeholder": "​",
            "style": "IPY_MODEL_f9f4cec0f8f242a19474199f60964a87",
            "value": "56f5c5702ed46ca55d7cdc67549ab0c2.zip: 100%"
          }
        },
        "232f1a48597949d9be66293bddbe6102": {
          "model_module": "@jupyter-widgets/controls",
          "model_name": "FloatProgressModel",
          "model_module_version": "1.5.0",
          "state": {
            "_dom_classes": [],
            "_model_module": "@jupyter-widgets/controls",
            "_model_module_version": "1.5.0",
            "_model_name": "FloatProgressModel",
            "_view_count": null,
            "_view_module": "@jupyter-widgets/controls",
            "_view_module_version": "1.5.0",
            "_view_name": "ProgressView",
            "bar_style": "",
            "description": "",
            "description_tooltip": null,
            "layout": "IPY_MODEL_149f838ab83a4bda901d320864359eac",
            "max": 236503879,
            "min": 0,
            "orientation": "horizontal",
            "style": "IPY_MODEL_db32234e58ea45f398de5ca8b4812944",
            "value": 236503879
          }
        },
        "ceb557f2b1914efea672c76d2ff4071b": {
          "model_module": "@jupyter-widgets/controls",
          "model_name": "HTMLModel",
          "model_module_version": "1.5.0",
          "state": {
            "_dom_classes": [],
            "_model_module": "@jupyter-widgets/controls",
            "_model_module_version": "1.5.0",
            "_model_name": "HTMLModel",
            "_view_count": null,
            "_view_module": "@jupyter-widgets/controls",
            "_view_module_version": "1.5.0",
            "_view_name": "HTMLView",
            "description": "",
            "description_tooltip": null,
            "layout": "IPY_MODEL_1305988ab2ac4d329030652122a8ea61",
            "placeholder": "​",
            "style": "IPY_MODEL_f48558b2e77c49b5bec232e9e92542b9",
            "value": " 225M/226M [00:10&lt;00:00, 25.6MB/s]"
          }
        },
        "ebb42e6f60d94efcbf40dcaa4a3025c7": {
          "model_module": "@jupyter-widgets/base",
          "model_name": "LayoutModel",
          "model_module_version": "1.2.0",
          "state": {
            "_model_module": "@jupyter-widgets/base",
            "_model_module_version": "1.2.0",
            "_model_name": "LayoutModel",
            "_view_count": null,
            "_view_module": "@jupyter-widgets/base",
            "_view_module_version": "1.2.0",
            "_view_name": "LayoutView",
            "align_content": null,
            "align_items": null,
            "align_self": null,
            "border": null,
            "bottom": null,
            "display": null,
            "flex": null,
            "flex_flow": null,
            "grid_area": null,
            "grid_auto_columns": null,
            "grid_auto_flow": null,
            "grid_auto_rows": null,
            "grid_column": null,
            "grid_gap": null,
            "grid_row": null,
            "grid_template_areas": null,
            "grid_template_columns": null,
            "grid_template_rows": null,
            "height": null,
            "justify_content": null,
            "justify_items": null,
            "left": null,
            "margin": null,
            "max_height": null,
            "max_width": null,
            "min_height": null,
            "min_width": null,
            "object_fit": null,
            "object_position": null,
            "order": null,
            "overflow": null,
            "overflow_x": null,
            "overflow_y": null,
            "padding": null,
            "right": null,
            "top": null,
            "visibility": "hidden",
            "width": null
          }
        },
        "cd8754c2de5a4b309812cb6ceb22a404": {
          "model_module": "@jupyter-widgets/base",
          "model_name": "LayoutModel",
          "model_module_version": "1.2.0",
          "state": {
            "_model_module": "@jupyter-widgets/base",
            "_model_module_version": "1.2.0",
            "_model_name": "LayoutModel",
            "_view_count": null,
            "_view_module": "@jupyter-widgets/base",
            "_view_module_version": "1.2.0",
            "_view_name": "LayoutView",
            "align_content": null,
            "align_items": null,
            "align_self": null,
            "border": null,
            "bottom": null,
            "display": null,
            "flex": null,
            "flex_flow": null,
            "grid_area": null,
            "grid_auto_columns": null,
            "grid_auto_flow": null,
            "grid_auto_rows": null,
            "grid_column": null,
            "grid_gap": null,
            "grid_row": null,
            "grid_template_areas": null,
            "grid_template_columns": null,
            "grid_template_rows": null,
            "height": null,
            "justify_content": null,
            "justify_items": null,
            "left": null,
            "margin": null,
            "max_height": null,
            "max_width": null,
            "min_height": null,
            "min_width": null,
            "object_fit": null,
            "object_position": null,
            "order": null,
            "overflow": null,
            "overflow_x": null,
            "overflow_y": null,
            "padding": null,
            "right": null,
            "top": null,
            "visibility": null,
            "width": null
          }
        },
        "f9f4cec0f8f242a19474199f60964a87": {
          "model_module": "@jupyter-widgets/controls",
          "model_name": "DescriptionStyleModel",
          "model_module_version": "1.5.0",
          "state": {
            "_model_module": "@jupyter-widgets/controls",
            "_model_module_version": "1.5.0",
            "_model_name": "DescriptionStyleModel",
            "_view_count": null,
            "_view_module": "@jupyter-widgets/base",
            "_view_module_version": "1.2.0",
            "_view_name": "StyleView",
            "description_width": ""
          }
        },
        "149f838ab83a4bda901d320864359eac": {
          "model_module": "@jupyter-widgets/base",
          "model_name": "LayoutModel",
          "model_module_version": "1.2.0",
          "state": {
            "_model_module": "@jupyter-widgets/base",
            "_model_module_version": "1.2.0",
            "_model_name": "LayoutModel",
            "_view_count": null,
            "_view_module": "@jupyter-widgets/base",
            "_view_module_version": "1.2.0",
            "_view_name": "LayoutView",
            "align_content": null,
            "align_items": null,
            "align_self": null,
            "border": null,
            "bottom": null,
            "display": null,
            "flex": null,
            "flex_flow": null,
            "grid_area": null,
            "grid_auto_columns": null,
            "grid_auto_flow": null,
            "grid_auto_rows": null,
            "grid_column": null,
            "grid_gap": null,
            "grid_row": null,
            "grid_template_areas": null,
            "grid_template_columns": null,
            "grid_template_rows": null,
            "height": null,
            "justify_content": null,
            "justify_items": null,
            "left": null,
            "margin": null,
            "max_height": null,
            "max_width": null,
            "min_height": null,
            "min_width": null,
            "object_fit": null,
            "object_position": null,
            "order": null,
            "overflow": null,
            "overflow_x": null,
            "overflow_y": null,
            "padding": null,
            "right": null,
            "top": null,
            "visibility": null,
            "width": null
          }
        },
        "db32234e58ea45f398de5ca8b4812944": {
          "model_module": "@jupyter-widgets/controls",
          "model_name": "ProgressStyleModel",
          "model_module_version": "1.5.0",
          "state": {
            "_model_module": "@jupyter-widgets/controls",
            "_model_module_version": "1.5.0",
            "_model_name": "ProgressStyleModel",
            "_view_count": null,
            "_view_module": "@jupyter-widgets/base",
            "_view_module_version": "1.2.0",
            "_view_name": "StyleView",
            "bar_color": null,
            "description_width": ""
          }
        },
        "1305988ab2ac4d329030652122a8ea61": {
          "model_module": "@jupyter-widgets/base",
          "model_name": "LayoutModel",
          "model_module_version": "1.2.0",
          "state": {
            "_model_module": "@jupyter-widgets/base",
            "_model_module_version": "1.2.0",
            "_model_name": "LayoutModel",
            "_view_count": null,
            "_view_module": "@jupyter-widgets/base",
            "_view_module_version": "1.2.0",
            "_view_name": "LayoutView",
            "align_content": null,
            "align_items": null,
            "align_self": null,
            "border": null,
            "bottom": null,
            "display": null,
            "flex": null,
            "flex_flow": null,
            "grid_area": null,
            "grid_auto_columns": null,
            "grid_auto_flow": null,
            "grid_auto_rows": null,
            "grid_column": null,
            "grid_gap": null,
            "grid_row": null,
            "grid_template_areas": null,
            "grid_template_columns": null,
            "grid_template_rows": null,
            "height": null,
            "justify_content": null,
            "justify_items": null,
            "left": null,
            "margin": null,
            "max_height": null,
            "max_width": null,
            "min_height": null,
            "min_width": null,
            "object_fit": null,
            "object_position": null,
            "order": null,
            "overflow": null,
            "overflow_x": null,
            "overflow_y": null,
            "padding": null,
            "right": null,
            "top": null,
            "visibility": null,
            "width": null
          }
        },
        "f48558b2e77c49b5bec232e9e92542b9": {
          "model_module": "@jupyter-widgets/controls",
          "model_name": "DescriptionStyleModel",
          "model_module_version": "1.5.0",
          "state": {
            "_model_module": "@jupyter-widgets/controls",
            "_model_module_version": "1.5.0",
            "_model_name": "DescriptionStyleModel",
            "_view_count": null,
            "_view_module": "@jupyter-widgets/base",
            "_view_module_version": "1.2.0",
            "_view_name": "StyleView",
            "description_width": ""
          }
        }
      }
    }
  },
  "nbformat": 4,
  "nbformat_minor": 0
}